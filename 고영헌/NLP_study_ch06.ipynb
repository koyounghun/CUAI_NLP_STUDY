{
  "nbformat": 4,
  "nbformat_minor": 0,
  "metadata": {
    "colab": {
      "name": "NLP-study ch06",
      "provenance": [],
      "toc_visible": true
    },
    "kernelspec": {
      "name": "python3",
      "display_name": "Python 3"
    },
    "accelerator": "GPU"
  },
  "cells": [
    {
      "cell_type": "code",
      "metadata": {
        "id": "idnwELxShdAS",
        "colab_type": "code",
        "colab": {}
      },
      "source": [
        "import numpy as np\n",
        "\n",
        "samples = ['The cat sat on the mat.', 'The dog ate my homework. ']\n",
        "\n",
        "token_index = {}\n",
        "for sample in samples:\n",
        "  for word in sample.split():\n",
        "\n",
        "    if word not in token_index:\n",
        "      token_index[word] = len(token_index) + 1\n",
        "max_length = 10\n",
        "\n",
        "results = np.zeros(shape = (len(samples),\n",
        "                            max_length,\n",
        "                            max(token_index.values()) + 1))\n",
        "for i, sample in enumerate(samples):\n",
        "  for j, word in list(enumerate(sample.split()))[:max_length]:\n",
        "    index = token_index.get(word)\n",
        "    results[i, j, index] = 1."
      ],
      "execution_count": 0,
      "outputs": []
    },
    {
      "cell_type": "code",
      "metadata": {
        "id": "Van5149QhdC9",
        "colab_type": "code",
        "colab": {}
      },
      "source": [
        "import string\n",
        "\n",
        "samples = ['The cat sat on the mat.', 'The dog ate my homework. ']\n",
        "characters = string.printable\n",
        "token_index = dict(zip(characters, range(1, len(characters) + 1)))\n",
        "\n",
        "max_length = 50\n",
        "\n",
        "results = np.zeros((len(samples), max_length, max(token_index.values())+ 1))\n",
        "for i, sample in enumerate(samples):\n",
        "  for j, character in enumerate(sample):\n",
        "    index = token_index.get(character)\n",
        "    results[i, j, index] = 1.\n"
      ],
      "execution_count": 0,
      "outputs": []
    },
    {
      "cell_type": "code",
      "metadata": {
        "id": "0iRfTCpfhdFF",
        "colab_type": "code",
        "outputId": "d0eefd13-02e2-4221-a393-7dddaa74da7d",
        "colab": {
          "base_uri": "https://localhost:8080/",
          "height": 34
        }
      },
      "source": [
        "from tensorflow.keras.preprocessing.text import Tokenizer\n",
        "samples = ['The cat sat on the mat.', 'The dog ate my homework. ']\n",
        "\n",
        "tokenizer = Tokenizer(num_words = 1000)\n",
        "tokenizer.fit_on_texts(samples)\n",
        "\n",
        "sequences = tokenizer.texts_to_sequences(samples)\n",
        "\n",
        "one_hot_results = tokenizer.texts_to_matrix(samples, mode = 'binary')\n",
        "\n",
        "word_index = tokenizer.word_index\n",
        "print('%s개의 고유한 토큰을 찾았습니다.' % len(word_index))"
      ],
      "execution_count": 0,
      "outputs": [
        {
          "output_type": "stream",
          "text": [
            "9개의 고유한 토큰을 찾았습니다.\n"
          ],
          "name": "stdout"
        }
      ]
    },
    {
      "cell_type": "code",
      "metadata": {
        "id": "wQNSZXYuhdJZ",
        "colab_type": "code",
        "colab": {}
      },
      "source": [
        "samples = ['The cat sat on the mat.', 'The dog ate my homework. ']\n",
        "\n",
        "dimensionality = 1000\n",
        "max_length = 10\n",
        "\n",
        "results = np.zeros((len(samples), max_length, dimensionality))\n",
        "for i, sample in enumerate(samples):\n",
        "  for j, word in list(enumerate(sample.split()))[:max_length]:\n",
        "    index = abs(hash(word)) % dimensionality\n",
        "    results[i , j, index] = 1."
      ],
      "execution_count": 0,
      "outputs": []
    },
    {
      "cell_type": "code",
      "metadata": {
        "id": "CCC2SmeEhdH0",
        "colab_type": "code",
        "colab": {}
      },
      "source": [
        "# Embedding 층의 객체 생성하기\n",
        "\n",
        "from tensorflow.keras.layers import Embedding\n",
        "\n",
        "embedding_layer = Embedding(1000, 64)"
      ],
      "execution_count": 0,
      "outputs": []
    },
    {
      "cell_type": "code",
      "metadata": {
        "id": "put8LKL0gemg",
        "colab_type": "code",
        "outputId": "768b703d-c363-4af3-dfc4-5e44ad988464",
        "colab": {
          "base_uri": "https://localhost:8080/",
          "height": 52
        }
      },
      "source": [
        "from tensorflow.keras.datasets import imdb\n",
        "from tensorflow.keras import preprocessing\n",
        "\n",
        "max_features = 10000\n",
        "maxlen = 20\n",
        "\n",
        "(x_train, y_train), (x_test, y_test) = imdb.load_data(num_words = max_features)\n",
        "\n",
        "x_train = preprocessing.sequence.pad_sequences(x_train, maxlen = maxlen)\n",
        "x_test = preprocessing.sequence.pad_sequences(x_test, maxlen = maxlen)"
      ],
      "execution_count": 0,
      "outputs": [
        {
          "output_type": "stream",
          "text": [
            "Downloading data from https://storage.googleapis.com/tensorflow/tf-keras-datasets/imdb.npz\n",
            "17465344/17464789 [==============================] - 0s 0us/step\n"
          ],
          "name": "stdout"
        }
      ]
    },
    {
      "cell_type": "code",
      "metadata": {
        "id": "3Qr1U4cjgeuZ",
        "colab_type": "code",
        "outputId": "f5abf05d-db48-46b3-96ff-55b82aff0de5",
        "colab": {
          "base_uri": "https://localhost:8080/",
          "height": 610
        }
      },
      "source": [
        "from tensorflow.keras.models import Sequential\n",
        "from tensorflow.keras.layers import Flatten, Dense, Embedding\n",
        "\n",
        "model = Sequential()\n",
        "model.add(Embedding(10000, 8, input_length = maxlen))\n",
        "\n",
        "model.add(Flatten())\n",
        "\n",
        "model.add(Dense(1, activation = 'sigmoid'))\n",
        "model.compile(optimizer = 'rmsprop', loss = 'binary_crossentropy', metrics = ['acc'])\n",
        "model.summary()\n",
        "\n",
        "history = model.fit(x_train,y_train,\n",
        "                    epochs = 10,\n",
        "                    batch_size = 32,\n",
        "                    validation_split = 0.2)"
      ],
      "execution_count": 0,
      "outputs": [
        {
          "output_type": "stream",
          "text": [
            "Model: \"sequential\"\n",
            "_________________________________________________________________\n",
            "Layer (type)                 Output Shape              Param #   \n",
            "=================================================================\n",
            "embedding_1 (Embedding)      (None, 20, 8)             80000     \n",
            "_________________________________________________________________\n",
            "flatten (Flatten)            (None, 160)               0         \n",
            "_________________________________________________________________\n",
            "dense (Dense)                (None, 1)                 161       \n",
            "=================================================================\n",
            "Total params: 80,161\n",
            "Trainable params: 80,161\n",
            "Non-trainable params: 0\n",
            "_________________________________________________________________\n",
            "Epoch 1/10\n",
            "625/625 [==============================] - 2s 3ms/step - loss: 0.6718 - acc: 0.6159 - val_loss: 0.6242 - val_acc: 0.6984\n",
            "Epoch 2/10\n",
            "625/625 [==============================] - 2s 3ms/step - loss: 0.5442 - acc: 0.7553 - val_loss: 0.5288 - val_acc: 0.7290\n",
            "Epoch 3/10\n",
            "625/625 [==============================] - 2s 3ms/step - loss: 0.4612 - acc: 0.7875 - val_loss: 0.5037 - val_acc: 0.7442\n",
            "Epoch 4/10\n",
            "625/625 [==============================] - 2s 3ms/step - loss: 0.4214 - acc: 0.8086 - val_loss: 0.4966 - val_acc: 0.7494\n",
            "Epoch 5/10\n",
            "625/625 [==============================] - 2s 3ms/step - loss: 0.3948 - acc: 0.8229 - val_loss: 0.4978 - val_acc: 0.7514\n",
            "Epoch 6/10\n",
            "625/625 [==============================] - 2s 3ms/step - loss: 0.3737 - acc: 0.8333 - val_loss: 0.5012 - val_acc: 0.7542\n",
            "Epoch 7/10\n",
            "625/625 [==============================] - 2s 3ms/step - loss: 0.3544 - acc: 0.8453 - val_loss: 0.5059 - val_acc: 0.7556\n",
            "Epoch 8/10\n",
            "625/625 [==============================] - 2s 3ms/step - loss: 0.3366 - acc: 0.8558 - val_loss: 0.5133 - val_acc: 0.7540\n",
            "Epoch 9/10\n",
            "625/625 [==============================] - 2s 3ms/step - loss: 0.3198 - acc: 0.8643 - val_loss: 0.5207 - val_acc: 0.7514\n",
            "Epoch 10/10\n",
            "625/625 [==============================] - 2s 3ms/step - loss: 0.3038 - acc: 0.8742 - val_loss: 0.5284 - val_acc: 0.7514\n"
          ],
          "name": "stdout"
        }
      ]
    },
    {
      "cell_type": "code",
      "metadata": {
        "id": "kqK23qaRgexI",
        "colab_type": "code",
        "outputId": "2eea20b2-c2e7-4e74-b8bb-37c1b2bb5227",
        "colab": {
          "base_uri": "https://localhost:8080/",
          "height": 238
        }
      },
      "source": [
        "import os\n",
        "\n",
        "imdb_dir = './datasets/acLimdb'\n",
        "train_dir = os.path.join(imdb_dir, 'train')\n",
        "\n",
        "labels = []\n",
        "\n",
        "texts = []\n",
        "\n",
        "for label_type in ['neg', 'pos']:\n",
        "  dir_name = os.path.join(train_dir, label_type)\n",
        "  for fname in os.listdir(dir_name):\n",
        "    if fname[-4:] == '.txt':\n",
        "      f = open(os.path.join(dir_name, fname), encoding = 'utf8')\n",
        "      texts.append(f.read())\n",
        "      f.close()\n",
        "      if label_type == 'neg':\n",
        "        labels.append(0)\n",
        "      else:\n",
        "        labels.append(1)\n",
        "        "
      ],
      "execution_count": 0,
      "outputs": [
        {
          "output_type": "error",
          "ename": "FileNotFoundError",
          "evalue": "ignored",
          "traceback": [
            "\u001b[0;31m---------------------------------------------------------------------------\u001b[0m",
            "\u001b[0;31mFileNotFoundError\u001b[0m                         Traceback (most recent call last)",
            "\u001b[0;32m<ipython-input-9-799696329813>\u001b[0m in \u001b[0;36m<module>\u001b[0;34m()\u001b[0m\n\u001b[1;32m     10\u001b[0m \u001b[0;32mfor\u001b[0m \u001b[0mlabel_type\u001b[0m \u001b[0;32min\u001b[0m \u001b[0;34m[\u001b[0m\u001b[0;34m'neg'\u001b[0m\u001b[0;34m,\u001b[0m \u001b[0;34m'pos'\u001b[0m\u001b[0;34m]\u001b[0m\u001b[0;34m:\u001b[0m\u001b[0;34m\u001b[0m\u001b[0;34m\u001b[0m\u001b[0m\n\u001b[1;32m     11\u001b[0m   \u001b[0mdir_name\u001b[0m \u001b[0;34m=\u001b[0m \u001b[0mos\u001b[0m\u001b[0;34m.\u001b[0m\u001b[0mpath\u001b[0m\u001b[0;34m.\u001b[0m\u001b[0mjoin\u001b[0m\u001b[0;34m(\u001b[0m\u001b[0mtrain_dir\u001b[0m\u001b[0;34m,\u001b[0m \u001b[0mlabel_type\u001b[0m\u001b[0;34m)\u001b[0m\u001b[0;34m\u001b[0m\u001b[0;34m\u001b[0m\u001b[0m\n\u001b[0;32m---> 12\u001b[0;31m   \u001b[0;32mfor\u001b[0m \u001b[0mfname\u001b[0m \u001b[0;32min\u001b[0m \u001b[0mos\u001b[0m\u001b[0;34m.\u001b[0m\u001b[0mlistdir\u001b[0m\u001b[0;34m(\u001b[0m\u001b[0mdir_name\u001b[0m\u001b[0;34m)\u001b[0m\u001b[0;34m:\u001b[0m\u001b[0;34m\u001b[0m\u001b[0;34m\u001b[0m\u001b[0m\n\u001b[0m\u001b[1;32m     13\u001b[0m     \u001b[0;32mif\u001b[0m \u001b[0mfname\u001b[0m\u001b[0;34m[\u001b[0m\u001b[0;34m-\u001b[0m\u001b[0;36m4\u001b[0m\u001b[0;34m:\u001b[0m\u001b[0;34m]\u001b[0m \u001b[0;34m==\u001b[0m \u001b[0;34m'.txt'\u001b[0m\u001b[0;34m:\u001b[0m\u001b[0;34m\u001b[0m\u001b[0;34m\u001b[0m\u001b[0m\n\u001b[1;32m     14\u001b[0m       \u001b[0mf\u001b[0m \u001b[0;34m=\u001b[0m \u001b[0mopen\u001b[0m\u001b[0;34m(\u001b[0m\u001b[0mos\u001b[0m\u001b[0;34m.\u001b[0m\u001b[0mpath\u001b[0m\u001b[0;34m.\u001b[0m\u001b[0mjoin\u001b[0m\u001b[0;34m(\u001b[0m\u001b[0mdir_name\u001b[0m\u001b[0;34m,\u001b[0m \u001b[0mfname\u001b[0m\u001b[0;34m)\u001b[0m\u001b[0;34m,\u001b[0m \u001b[0mencoding\u001b[0m \u001b[0;34m=\u001b[0m \u001b[0;34m'utf8'\u001b[0m\u001b[0;34m)\u001b[0m\u001b[0;34m\u001b[0m\u001b[0;34m\u001b[0m\u001b[0m\n",
            "\u001b[0;31mFileNotFoundError\u001b[0m: [Errno 2] No such file or directory: './datasets/acLimdb/train/neg'"
          ]
        }
      ]
    },
    {
      "cell_type": "code",
      "metadata": {
        "id": "ywE68JCugezc",
        "colab_type": "code",
        "outputId": "031aeac4-43d6-402e-8125-cfc6361452cc",
        "colab": {
          "base_uri": "https://localhost:8080/",
          "height": 238
        }
      },
      "source": [
        "from tensorflow.keras.preprocessing.text import Tokenizer\n",
        "from tensorflow.keras.preprocessing.sequence import pad_sequences\n",
        "import numpy as np\n",
        "\n",
        "maxlen = 100\n",
        "training_samples = 200\n",
        "validation_samples = 10000\n",
        "max_words = 10000\n",
        "\n",
        "tokenizer = Tokenizer(num_words = max_words)\n",
        "tokenizer.fit_on_texts(texts)\n",
        "sequences = tokenizer.texts_to_sequences(texts)\n",
        "\n",
        "word_index = tokeizer.word_index\n",
        "print('$s개의 고유한 토큰을 찾았습니다.' % len(word_index))\n",
        "\n",
        "data = pad_sequences(sequences, maxlen = maxlen)\n",
        "\n",
        "labels = np.asarray(labels)\n",
        "print('데이터 텐서의 크기:', data.shape)\n",
        "print('레이블 텐서의 크기:', labels.shape)\n",
        "\n",
        "indices = np.arange(data.shape[0])\n",
        "np.random.shuffle(indices)\n",
        "data = data[indices]\n",
        "labels = labels[indices]\n",
        "\n",
        "x_train = data[:training_samples]\n",
        "y_train = labels[:training_samples]\n",
        "x_val = data[training_samples: training_samples + validation_samples]\n",
        "y_val = labels[training_samples: trainings_samples + validation_samples]"
      ],
      "execution_count": 0,
      "outputs": [
        {
          "output_type": "error",
          "ename": "NameError",
          "evalue": "ignored",
          "traceback": [
            "\u001b[0;31m---------------------------------------------------------------------------\u001b[0m",
            "\u001b[0;31mNameError\u001b[0m                                 Traceback (most recent call last)",
            "\u001b[0;32m<ipython-input-9-409146814940>\u001b[0m in \u001b[0;36m<module>\u001b[0;34m()\u001b[0m\n\u001b[1;32m      9\u001b[0m \u001b[0;34m\u001b[0m\u001b[0m\n\u001b[1;32m     10\u001b[0m \u001b[0mtokenizer\u001b[0m \u001b[0;34m=\u001b[0m \u001b[0mTokenizer\u001b[0m\u001b[0;34m(\u001b[0m\u001b[0mnum_words\u001b[0m \u001b[0;34m=\u001b[0m \u001b[0mmax_words\u001b[0m\u001b[0;34m)\u001b[0m\u001b[0;34m\u001b[0m\u001b[0;34m\u001b[0m\u001b[0m\n\u001b[0;32m---> 11\u001b[0;31m \u001b[0mtokenizer\u001b[0m\u001b[0;34m.\u001b[0m\u001b[0mfit_on_texts\u001b[0m\u001b[0;34m(\u001b[0m\u001b[0mtexts\u001b[0m\u001b[0;34m)\u001b[0m\u001b[0;34m\u001b[0m\u001b[0;34m\u001b[0m\u001b[0m\n\u001b[0m\u001b[1;32m     12\u001b[0m \u001b[0msequences\u001b[0m \u001b[0;34m=\u001b[0m \u001b[0mtokenizer\u001b[0m\u001b[0;34m.\u001b[0m\u001b[0mtexts_to_sequences\u001b[0m\u001b[0;34m(\u001b[0m\u001b[0mtexts\u001b[0m\u001b[0;34m)\u001b[0m\u001b[0;34m\u001b[0m\u001b[0;34m\u001b[0m\u001b[0m\n\u001b[1;32m     13\u001b[0m \u001b[0;34m\u001b[0m\u001b[0m\n",
            "\u001b[0;31mNameError\u001b[0m: name 'texts' is not defined"
          ]
        }
      ]
    },
    {
      "cell_type": "code",
      "metadata": {
        "id": "WVSiieu-ge2A",
        "colab_type": "code",
        "outputId": "0eb4c6b4-b5a6-4d25-f0db-04f3ec0378e9",
        "colab": {
          "base_uri": "https://localhost:8080/",
          "height": 238
        }
      },
      "source": [
        "glove_dir = './drive/My Drive/'\n",
        "\n",
        "embeddings_index = {}\n",
        "f = open(os.path.join(glove_dir, 'glove.6b.100d.txt', encoding='utf8'))\n",
        "for line in f:\n",
        "  values = line.split()\n",
        "  word = values[0]\n",
        "  coefs = np.asarray(values[1:], dtype = 'float32')\n",
        "  embeddings_index[word] = coefs\n",
        "f.close()\n",
        "\n",
        "print('%s 개의 단어 벡터를 찾았습니다.' % len(embeddings_index))"
      ],
      "execution_count": 0,
      "outputs": [
        {
          "output_type": "error",
          "ename": "TypeError",
          "evalue": "ignored",
          "traceback": [
            "\u001b[0;31m---------------------------------------------------------------------------\u001b[0m",
            "\u001b[0;31mTypeError\u001b[0m                                 Traceback (most recent call last)",
            "\u001b[0;32m<ipython-input-20-9504009946e8>\u001b[0m in \u001b[0;36m<module>\u001b[0;34m()\u001b[0m\n\u001b[1;32m      2\u001b[0m \u001b[0;34m\u001b[0m\u001b[0m\n\u001b[1;32m      3\u001b[0m \u001b[0membeddings_index\u001b[0m \u001b[0;34m=\u001b[0m \u001b[0;34m{\u001b[0m\u001b[0;34m}\u001b[0m\u001b[0;34m\u001b[0m\u001b[0;34m\u001b[0m\u001b[0m\n\u001b[0;32m----> 4\u001b[0;31m \u001b[0mf\u001b[0m \u001b[0;34m=\u001b[0m \u001b[0mopen\u001b[0m\u001b[0;34m(\u001b[0m\u001b[0mos\u001b[0m\u001b[0;34m.\u001b[0m\u001b[0mpath\u001b[0m\u001b[0;34m.\u001b[0m\u001b[0mjoin\u001b[0m\u001b[0;34m(\u001b[0m\u001b[0mglove_dir\u001b[0m\u001b[0;34m,\u001b[0m \u001b[0;34m'glove.6b.100d.txt'\u001b[0m\u001b[0;34m,\u001b[0m \u001b[0mencoding\u001b[0m\u001b[0;34m=\u001b[0m\u001b[0;34m'utf8'\u001b[0m\u001b[0;34m)\u001b[0m\u001b[0;34m)\u001b[0m\u001b[0;34m\u001b[0m\u001b[0;34m\u001b[0m\u001b[0m\n\u001b[0m\u001b[1;32m      5\u001b[0m \u001b[0;32mfor\u001b[0m \u001b[0mline\u001b[0m \u001b[0;32min\u001b[0m \u001b[0mf\u001b[0m\u001b[0;34m:\u001b[0m\u001b[0;34m\u001b[0m\u001b[0;34m\u001b[0m\u001b[0m\n\u001b[1;32m      6\u001b[0m   \u001b[0mvalues\u001b[0m \u001b[0;34m=\u001b[0m \u001b[0mline\u001b[0m\u001b[0;34m.\u001b[0m\u001b[0msplit\u001b[0m\u001b[0;34m(\u001b[0m\u001b[0;34m)\u001b[0m\u001b[0;34m\u001b[0m\u001b[0;34m\u001b[0m\u001b[0m\n",
            "\u001b[0;31mTypeError\u001b[0m: join() got an unexpected keyword argument 'encoding'"
          ]
        }
      ]
    },
    {
      "cell_type": "code",
      "metadata": {
        "id": "pSwcROHYge4Z",
        "colab_type": "code",
        "outputId": "b1ed2346-132c-48a8-e3f2-55f2db2a6e8f",
        "colab": {
          "base_uri": "https://localhost:8080/",
          "height": 133
        }
      },
      "source": [
        "embedding_dim = 100\n",
        "\n",
        "embedding_matrix = np.zeros((max_words, embedding_dim))\n",
        "for word, i in word.index.items():\n",
        "  if i < max_words:\n",
        "    embedding_vector = embeddings_index.get(word)\n",
        "    if embedding_vector is not None:\n",
        "      embedding_matrix[i] = embedding_vector\n"
      ],
      "execution_count": 0,
      "outputs": [
        {
          "output_type": "error",
          "ename": "SyntaxError",
          "evalue": "ignored",
          "traceback": [
            "\u001b[0;36m  File \u001b[0;32m\"<ipython-input-1-6809d8a1032a>\"\u001b[0;36m, line \u001b[0;32m5\u001b[0m\n\u001b[0;31m    if i < max_words:\u001b[0m\n\u001b[0m                     ^\u001b[0m\n\u001b[0;31mSyntaxError\u001b[0m\u001b[0;31m:\u001b[0m unexpected EOF while parsing\n"
          ]
        }
      ]
    },
    {
      "cell_type": "code",
      "metadata": {
        "id": "7xUIbSxqge7I",
        "colab_type": "code",
        "colab": {}
      },
      "source": [
        "from tensorflow.keras.models import Sequential\n",
        "from tensorflow.layers import Embedding, Flatten, Dense\n",
        "\n",
        "model = Sequential()\n",
        "model.add(Embedding(max_words, embedding_dim, input_length = maxlen))\n",
        "model.add(Flatten())\n",
        "model.add(Dense(32, activation = 'relu'))\n",
        "model.add(Dense(1, activation = 'sigmoid'))\n",
        "model.summary()"
      ],
      "execution_count": 0,
      "outputs": []
    },
    {
      "cell_type": "code",
      "metadata": {
        "id": "LQP2XtNCge9o",
        "colab_type": "code",
        "colab": {}
      },
      "source": [
        "model.layers[0].set_weights([embedding_matrix])\n",
        "model.layers[0].trainable = False"
      ],
      "execution_count": 0,
      "outputs": []
    },
    {
      "cell_type": "code",
      "metadata": {
        "id": "cYNptOEggfAG",
        "colab_type": "code",
        "colab": {}
      },
      "source": [
        "mode.compile(optimizer = 'rmsprop',\n",
        "             loss = 'binary_crossentropy',\n",
        "             metrics = ['acc'])\n",
        "history = model.fit(x_train, y_train, \n",
        "                    epochs = 10,\n",
        "                    batch_size = 32,\n",
        "                    validation_data = (x_val, y_val))\n",
        "model.save_weights('pre_trained_glove_model.h5')"
      ],
      "execution_count": 0,
      "outputs": []
    },
    {
      "cell_type": "code",
      "metadata": {
        "id": "fi04y9jlazgp",
        "colab_type": "code",
        "colab": {}
      },
      "source": [
        "import matplotlib.pyplor as plt\n",
        "\n",
        "acc = history.history['acc']\n",
        "val_acc = history.history['val_acc']\n",
        "loss = history.history['loss']\n",
        "val_loss = history.history['val_loss']\n",
        "\n",
        "epochs = range(1, len(acc) + 1)\n",
        "\n",
        "plt.plot(epochs, acc, 'bo', label = 'Training_acc')\n",
        "plt.plot(epochs, val_acc, 'b', label = 'Validation_acc')\n",
        "plt.title('Training and validation accuracy')\n",
        "plt.legend()\n",
        "\n",
        "plt.figure()\n",
        "\n",
        "plt.plot(epochs, loss, 'bo', label = \"Training_loss\")\n",
        "plt.plot(epochs, val_loss, 'b', label = 'Validation_loss')\n",
        "plt.title('Training and validation loss')\n",
        "plt.legned()\n",
        "\n",
        "plt.show()"
      ],
      "execution_count": 0,
      "outputs": []
    },
    {
      "cell_type": "code",
      "metadata": {
        "id": "M8JZoVtSazx_",
        "colab_type": "code",
        "colab": {}
      },
      "source": [
        "from tensorflow.keras.models import Sequential()\n",
        "from tensorflow.keras.layers import Embedding, Flatten, Dense\n",
        "\n",
        "model= Sequential()\n",
        "model.add(Embeddings(max_words, embedding_dim, input_shape = maxlen))\n",
        "model.add(Flatten())\n",
        "model.add(Dense(32, activation = 'relu'))\n",
        "model.add(Dense(1), activation = 'sigmoid')\n",
        "model.summary()\n",
        "model.compile(optimizer = 'rmsprop',\n",
        "              loss = 'binary_crossentropy',\n",
        "              metrics = ['acc'])\n",
        "history = model.fit(x_train, y_train,\n",
        "                    epochs = 10,\n",
        "                    batch_size = 32,\n",
        "                    validation_data = (x_val, y_val))"
      ],
      "execution_count": 0,
      "outputs": []
    },
    {
      "cell_type": "code",
      "metadata": {
        "id": "9DC6zdtfaz8Z",
        "colab_type": "code",
        "colab": {}
      },
      "source": [
        "test_dir = os.path.join(imdb_dir, 'test')\n",
        "\n",
        "labels = []\n",
        "texts = []\n",
        "\n",
        "for label_type in ['neg', 'pos']:\n",
        "  dir_name = os.path.join(test_dir, label_type)\n",
        "  for fname in sorted(os.list_dir(dir_name)):\n",
        "    if fname[-4:] == '.txt':\n",
        "      f = open(os.path.join(dir_name, fname), encoding= 'utf8')\n",
        "      texts.append(f.read())\n",
        "      f.close()\n",
        "      if label_type == 'neg':\n",
        "        labels.append(0)\n",
        "      else:\n",
        "        labels.append(1)\n",
        "\n",
        "sequences = tokenizer.texts_to_sequences(texts)\n",
        "x_test = pad_sequences(sequences, maxlen = maxlen)\n",
        "y_test = np.asarray(labels)"
      ],
      "execution_count": 0,
      "outputs": []
    },
    {
      "cell_type": "code",
      "metadata": {
        "id": "LYb8sooYa0Nm",
        "colab_type": "code",
        "colab": {}
      },
      "source": [
        "model.load_weights('pre_trained_glove_model.h5')\n",
        "model.evaluate(x_test, y_test)"
      ],
      "execution_count": 0,
      "outputs": []
    },
    {
      "cell_type": "code",
      "metadata": {
        "id": "qBxWNGtPa0ht",
        "colab_type": "code",
        "colab": {}
      },
      "source": [
        "# RNN 모델 의사코드\n",
        "state_t = 0\n",
        "for input_t in input_sequences:\n",
        "  output_t = f(input_t, state_t)\n",
        "  state_t = output_t"
      ],
      "execution_count": 0,
      "outputs": []
    },
    {
      "cell_type": "code",
      "metadata": {
        "id": "BtkyewV4a00C",
        "colab_type": "code",
        "colab": {}
      },
      "source": [
        "# 정확한 RNN의 의사코드식\n",
        "\n",
        "state_t = 0\n",
        "for input_t in input_sequences:\n",
        "  output_t = activation(dot(W, input_t)+ dot(U, state_t) + b)\n",
        "  state_t = output_t"
      ],
      "execution_count": 0,
      "outputs": []
    },
    {
      "cell_type": "code",
      "metadata": {
        "id": "w4YhNiMla04q",
        "colab_type": "code",
        "colab": {}
      },
      "source": [
        "# RNN using numpy\n",
        "\n",
        "import numpy as np\n",
        "\n",
        "timesteps = 100\n",
        "input_features = 32\n",
        "output_features = 64\n",
        "\n",
        "inputs = np.random.random((timesteps, input_features))\n",
        "\n",
        "state_t = np.zeros((output_features,))\n",
        "\n",
        "W = np.random.random((output_features, input_features))\n",
        "U = np.random.random((output_features, output_features))\n",
        "b = np.random.random((output_features))\n",
        "\n",
        "successive_outputs = []\n",
        "\n",
        "for input_t in inputs:\n",
        "  output_t = np.tanh(np.dot(W, input_t) + np.dot(U, state_t) + b)\n",
        "\n",
        "  successive_outputs.append(output_t)\n",
        "\n",
        "  state_t = output_t\n",
        "\n",
        "final_output_sequences = np.stack(successive_outputs, axis = 0)"
      ],
      "execution_count": 0,
      "outputs": []
    },
    {
      "cell_type": "code",
      "metadata": {
        "id": "9mgR0P11a1Iq",
        "colab_type": "code",
        "outputId": "c6def39d-7421-4a9e-9049-0b5391465cd6",
        "colab": {
          "base_uri": "https://localhost:8080/",
          "height": 331
        }
      },
      "source": [
        "# simple RNN\n",
        "\n",
        "from tensorflow.keras.models import Sequential\n",
        "from tensorflow.keras.layers import SimpleRNN, Embedding\n",
        "\n",
        "model = Sequential()\n",
        "model.add(Embedding(10000, 32))\n",
        "model.add(SimpleRNN(32, return_sequences = True))\n",
        "model.add(SimpleRNN(32, return_sequences = True))\n",
        "model.add(SimpleRNN(32, return_sequences = True))\n",
        "model.add(SimpleRNN(32))\n",
        "model.summary()\n"
      ],
      "execution_count": 0,
      "outputs": [
        {
          "output_type": "stream",
          "text": [
            "Model: \"sequential_1\"\n",
            "_________________________________________________________________\n",
            "Layer (type)                 Output Shape              Param #   \n",
            "=================================================================\n",
            "embedding_2 (Embedding)      (None, None, 32)          320000    \n",
            "_________________________________________________________________\n",
            "simple_rnn (SimpleRNN)       (None, None, 32)          2080      \n",
            "_________________________________________________________________\n",
            "simple_rnn_1 (SimpleRNN)     (None, None, 32)          2080      \n",
            "_________________________________________________________________\n",
            "simple_rnn_2 (SimpleRNN)     (None, None, 32)          2080      \n",
            "_________________________________________________________________\n",
            "simple_rnn_3 (SimpleRNN)     (None, 32)                2080      \n",
            "=================================================================\n",
            "Total params: 328,320\n",
            "Trainable params: 328,320\n",
            "Non-trainable params: 0\n",
            "_________________________________________________________________\n"
          ],
          "name": "stdout"
        }
      ]
    },
    {
      "cell_type": "code",
      "metadata": {
        "id": "nwFFaLrNa1Mu",
        "colab_type": "code",
        "outputId": "63bfed0b-698e-4f8f-9bc1-5e861a3ec63c",
        "colab": {
          "base_uri": "https://localhost:8080/",
          "height": 121
        }
      },
      "source": [
        "from tensorflow.keras.datasets import imdb\n",
        "from tensorflow.keras.preprocessing import sequence\n",
        "\n",
        "max_features = 10000\n",
        "maxlen = 500\n",
        "batch_size = 32\n",
        "\n",
        "print('데이터 로딩....')\n",
        "(input_train, y_train), (input_test, y_test) =imdb.load_data(num_words = max_features)\n",
        "print(len(input_train), '훈련 시퀀스')\n",
        "print(len(input_test), '테스트 시퀀스')\n",
        "\n",
        "print('시퀀스 패딩(samples x time)')\n",
        "\n",
        "input_train = sequence.pad_sequences(input_train, maxlen = maxlen)\n",
        "input_test = sequence.pad_sequences(input_test, maxlen = maxlen)\n",
        "print('input_train의 크기:', input_train.shape)\n",
        "print('input_test의 크기:', input_test.shape)"
      ],
      "execution_count": 0,
      "outputs": [
        {
          "output_type": "stream",
          "text": [
            "데이터 로딩....\n",
            "25000 훈련 시퀀스\n",
            "25000 테스트 시퀀스\n",
            "시퀀스 패딩(samples x time)\n",
            "input_train의 크기: (25000, 500)\n",
            "input_test의 크기: (25000, 500)\n"
          ],
          "name": "stdout"
        }
      ]
    },
    {
      "cell_type": "code",
      "metadata": {
        "id": "cVwqBoCVa1WY",
        "colab_type": "code",
        "outputId": "f6627c0c-438b-4e3d-b162-758e34ba0aed",
        "colab": {
          "base_uri": "https://localhost:8080/",
          "height": 366
        }
      },
      "source": [
        "from tensorflow.keras.layers import Dense\n",
        "\n",
        "model=Sequential()\n",
        "model.add(Embedding(max_features, 32))\n",
        "model.add(SimpleRNN(32))\n",
        "model.add(Dense(1, activation = 'relu'))\n",
        "\n",
        "model.compile(optimizer='rmsprop',\n",
        "              loss = 'binary_crossentropy',\n",
        "              metrics = ['acc'])\n",
        "\n",
        "history = model.fit(input_train, y_train,\n",
        "                    epochs = 10,\n",
        "                    batch_size = 128,\n",
        "                    validation_split = 0.2)"
      ],
      "execution_count": 0,
      "outputs": [
        {
          "output_type": "stream",
          "text": [
            "Epoch 1/10\n",
            "157/157 [==============================] - 53s 338ms/step - loss: 0.7304 - acc: 0.5817 - val_loss: 0.6094 - val_acc: 0.6716\n",
            "Epoch 2/10\n",
            "157/157 [==============================] - 52s 332ms/step - loss: 0.5224 - acc: 0.7965 - val_loss: 0.5619 - val_acc: 0.7624\n",
            "Epoch 3/10\n",
            "157/157 [==============================] - 53s 335ms/step - loss: 0.3659 - acc: 0.8867 - val_loss: 1.0405 - val_acc: 0.7386\n",
            "Epoch 4/10\n",
            "157/157 [==============================] - 53s 339ms/step - loss: 0.2923 - acc: 0.9259 - val_loss: 1.4343 - val_acc: 0.7080\n",
            "Epoch 5/10\n",
            "157/157 [==============================] - 51s 325ms/step - loss: 0.1654 - acc: 0.9630 - val_loss: 1.2608 - val_acc: 0.7736\n",
            "Epoch 6/10\n",
            "157/157 [==============================] - 52s 332ms/step - loss: 0.1273 - acc: 0.9808 - val_loss: 2.3691 - val_acc: 0.6922\n",
            "Epoch 7/10\n",
            "157/157 [==============================] - 53s 337ms/step - loss: 0.0853 - acc: 0.9888 - val_loss: 1.4461 - val_acc: 0.8092\n",
            "Epoch 8/10\n",
            "157/157 [==============================] - 52s 330ms/step - loss: 0.0723 - acc: 0.9926 - val_loss: 1.7018 - val_acc: 0.7862\n",
            "Epoch 9/10\n",
            "157/157 [==============================] - 52s 331ms/step - loss: 0.0711 - acc: 0.9933 - val_loss: 1.8838 - val_acc: 0.7674\n",
            "Epoch 10/10\n",
            "157/157 [==============================] - 52s 333ms/step - loss: 0.0753 - acc: 0.9924 - val_loss: 2.1664 - val_acc: 0.7586\n"
          ],
          "name": "stdout"
        }
      ]
    },
    {
      "cell_type": "code",
      "metadata": {
        "id": "9lz27hLza1Zv",
        "colab_type": "code",
        "outputId": "21f7e8a9-5090-40ba-bfcd-eca409810845",
        "colab": {
          "base_uri": "https://localhost:8080/",
          "height": 545
        }
      },
      "source": [
        "import matplotlib.pyplot as plt\n",
        "\n",
        "acc = history.history['acc']\n",
        "val_acc = history.history['val_acc']\n",
        "loss = history.history['loss']\n",
        "val_loss = history.history['val_loss']\n",
        "\n",
        "epochs = range(1, len(acc) + 1)\n",
        "\n",
        "plt.plot(epochs, acc, 'bo', label = 'Training_acc')\n",
        "plt.plot(epochs, val_acc, 'b', label = 'Validation_acc')\n",
        "plt.title('Training and validation accuracy')\n",
        "plt.legend()\n",
        "\n",
        "plt.figure()\n",
        "\n",
        "plt.plot(epochs, loss, 'bo', label = \"Training_loss\")\n",
        "plt.plot(epochs, val_loss, 'b', label = 'Validation_loss')\n",
        "plt.title('Training and validation loss')\n",
        "plt.legend()\n",
        "\n",
        "plt.show()"
      ],
      "execution_count": 0,
      "outputs": [
        {
          "output_type": "display_data",
          "data": {
            "image/png": "[encoded data removed]",
            "text/plain": [
              "<Figure size 432x288 with 1 Axes>"
            ]
          },
          "metadata": {
            "tags": []
          }
        },
        {
          "output_type": "display_data",
          "data": {
            "image/png": "[encoded data removed]",
            "text/plain": [
              "<Figure size 432x288 with 1 Axes>"
            ]
          },
          "metadata": {
            "tags": []
          }
        }
      ]
    },
    {
      "cell_type": "code",
      "metadata": {
        "id": "uWi97ufra0fm",
        "colab_type": "code",
        "colab": {}
      },
      "source": [
        "# LSTM \n",
        "\n",
        "output_t = activation((c_t) * acitvation(dot(input_t, W0) + dot(state_t, U0)+ b0)\n",
        "\n",
        "i_t = activation(dot(state_t, Ui) + dot(input_t, Wi) + bi)\n",
        "f_t = activation(dot(state_t, Uf) + dot(input_t, Wf) + bi)\n",
        "k_t = activation(dot(state_t, Uk) + dot(input_t, Wk) + bi)\n",
        "\n",
        "c_t = i_t * k_t+ c_t * f_t"
      ],
      "execution_count": 0,
      "outputs": []
    },
    {
      "cell_type": "code",
      "metadata": {
        "id": "CeuPE-uEa0ce",
        "colab_type": "code",
        "outputId": "070f3f3d-d325-47c6-b8f9-6321c411f3b9",
        "colab": {
          "base_uri": "https://localhost:8080/",
          "height": 366
        }
      },
      "source": [
        "from tensorflow.keras.layers import LSTM\n",
        "\n",
        "model = Sequential()\n",
        "model.add(Embedding(max_features, 32))\n",
        "model.add(LSTM(32))\n",
        "model.add(Dense(1, activation ='sigmoid'))\n",
        "\n",
        "model.compile(optimizer = 'rmsprop',\n",
        "              loss = 'binary_crossentropy',\n",
        "              metrics = ['acc'])\n",
        "\n",
        "history = model.fit(input_train, y_train,\n",
        "                    epochs = 10,\n",
        "                    batch_size = 128,\n",
        "                    validation_split = 0.2)"
      ],
      "execution_count": 0,
      "outputs": [
        {
          "output_type": "stream",
          "text": [
            "Epoch 1/10\n",
            "157/157 [==============================] - 5s 34ms/step - loss: 0.5192 - acc: 0.7544 - val_loss: 0.3980 - val_acc: 0.8354\n",
            "Epoch 2/10\n",
            "157/157 [==============================] - 5s 32ms/step - loss: 0.3056 - acc: 0.8831 - val_loss: 0.3720 - val_acc: 0.8452\n",
            "Epoch 3/10\n",
            "157/157 [==============================] - 5s 32ms/step - loss: 0.2397 - acc: 0.9090 - val_loss: 0.2767 - val_acc: 0.8806\n",
            "Epoch 4/10\n",
            "157/157 [==============================] - 5s 32ms/step - loss: 0.2043 - acc: 0.9255 - val_loss: 0.3294 - val_acc: 0.8552\n",
            "Epoch 5/10\n",
            "157/157 [==============================] - 5s 32ms/step - loss: 0.1814 - acc: 0.9342 - val_loss: 0.2930 - val_acc: 0.8932\n",
            "Epoch 6/10\n",
            "157/157 [==============================] - 5s 32ms/step - loss: 0.1626 - acc: 0.9423 - val_loss: 0.2955 - val_acc: 0.8824\n",
            "Epoch 7/10\n",
            "157/157 [==============================] - 5s 32ms/step - loss: 0.1469 - acc: 0.9479 - val_loss: 0.3025 - val_acc: 0.8760\n",
            "Epoch 8/10\n",
            "157/157 [==============================] - 5s 32ms/step - loss: 0.1334 - acc: 0.9549 - val_loss: 0.3364 - val_acc: 0.8884\n",
            "Epoch 9/10\n",
            "157/157 [==============================] - 5s 32ms/step - loss: 0.1241 - acc: 0.9578 - val_loss: 0.3301 - val_acc: 0.8676\n",
            "Epoch 10/10\n",
            "157/157 [==============================] - 5s 32ms/step - loss: 0.1187 - acc: 0.9599 - val_loss: 0.4529 - val_acc: 0.8350\n"
          ],
          "name": "stdout"
        }
      ]
    },
    {
      "cell_type": "code",
      "metadata": {
        "id": "WDmhYNT5a0Zn",
        "colab_type": "code",
        "outputId": "b8add646-ece5-4505-cb5e-93cbbdc3dbbf",
        "colab": {
          "base_uri": "https://localhost:8080/",
          "height": 545
        }
      },
      "source": [
        "import matplotlib.pyplot as plt\n",
        "\n",
        "acc = history.history['acc']\n",
        "val_acc = history.history['val_acc']\n",
        "loss = history.history['loss']\n",
        "val_loss = history.history['val_loss']\n",
        "\n",
        "epochs = range(1, len(acc) + 1)\n",
        "\n",
        "plt.plot(epochs, acc, 'bo', label = 'Training_acc')\n",
        "plt.plot(epochs, val_acc, 'b', label = 'Validation_acc')\n",
        "plt.title('Training and validation accuracy')\n",
        "plt.legend()\n",
        "\n",
        "plt.figure()\n",
        "\n",
        "plt.plot(epochs, loss, 'bo', label = \"Training_loss\")\n",
        "plt.plot(epochs, val_loss, 'b', label = 'Validation_loss')\n",
        "plt.title('Training and validation loss')\n",
        "plt.legend()\n",
        "\n",
        "plt.show()"
      ],
      "execution_count": 0,
      "outputs": [
        {
          "output_type": "display_data",
          "data": {
            "image/png": "[encoded data removed]",
            "text/plain": [
              "<Figure size 432x288 with 1 Axes>"
            ]
          },
          "metadata": {
            "tags": []
          }
        },
        {
          "output_type": "display_data",
          "data": {
            "image/png": "[encoded data removed]",
            "text/plain": [
              "<Figure size 432x288 with 1 Axes>"
            ]
          },
          "metadata": {
            "tags": []
          }
        }
      ]
    },
    {
      "cell_type": "code",
      "metadata": {
        "id": "0FOXsC-Ya0XD",
        "colab_type": "code",
        "outputId": "9e24bf6a-d2c2-4c49-e2c1-ca44a915b732",
        "colab": {
          "base_uri": "https://localhost:8080/",
          "height": 72
        }
      },
      "source": [
        "import os\n",
        "\n",
        "data_dir = './drive/My Drive/'\n",
        "fname = os.path.join(data_dir, 'jena_climate_2009_2016.csv')\n",
        "\n",
        "f = open(fname)\n",
        "data=f.read()\n",
        "f.close()\n",
        "lines = data.split('\\n')\n",
        "header = lines[0].split(',')\n",
        "lines = lines[1:]\n",
        "\n",
        "print(header)\n",
        "print(len(lines))"
      ],
      "execution_count": 6,
      "outputs": [
        {
          "output_type": "stream",
          "text": [
            "['\"Date Time\"', '\"p (mbar)\"', '\"T (degC)\"', '\"Tpot (K)\"', '\"Tdew (degC)\"', '\"rh (%)\"', '\"VPmax (mbar)\"', '\"VPact (mbar)\"', '\"VPdef (mbar)\"', '\"sh (g/kg)\"', '\"H2OC (mmol/mol)\"', '\"rho (g/m**3)\"', '\"wv (m/s)\"', '\"max. wv (m/s)\"', '\"wd (deg)\"']\n",
            "420551\n"
          ],
          "name": "stdout"
        }
      ]
    },
    {
      "cell_type": "code",
      "metadata": {
        "id": "8lM_qANea0Ur",
        "colab_type": "code",
        "colab": {}
      },
      "source": [
        "import numpy as np\n",
        "\n",
        "float_data = np.zeros((len(lines), len(header) -1))\n",
        "for i, line in enumerate(lines):\n",
        "  values = [float(x) for x in line.split(',')[1:]]\n",
        "  float_data[i, :] = values"
      ],
      "execution_count": 0,
      "outputs": []
    },
    {
      "cell_type": "code",
      "metadata": {
        "id": "7zXwByIea0TL",
        "colab_type": "code",
        "outputId": "ebffec53-021b-4ba7-cb28-5dd7ccb1b446",
        "colab": {
          "base_uri": "https://localhost:8080/",
          "height": 286
        }
      },
      "source": [
        "from matplotlib import pyplot as plt\n",
        "\n",
        "temp = float_data[:, 1]\n",
        "plt.plot(range(len(temp)), temp)"
      ],
      "execution_count": 0,
      "outputs": [
        {
          "output_type": "execute_result",
          "data": {
            "text/plain": [
              "[<matplotlib.lines.Line2D at 0x7f356a220780>]"
            ]
          },
          "metadata": {
            "tags": []
          },
          "execution_count": 24
        },
        {
          "output_type": "display_data",
          "data": {
            "image/png": "[encoded data removed]",
            "text/plain": [
              "<Figure size 432x288 with 1 Axes>"
            ]
          },
          "metadata": {
            "tags": []
          }
        }
      ]
    },
    {
      "cell_type": "code",
      "metadata": {
        "id": "n5mGr8Dda0Q3",
        "colab_type": "code",
        "outputId": "ce1c621f-d8aa-49d4-f067-2d5130a27e60",
        "colab": {
          "base_uri": "https://localhost:8080/",
          "height": 282
        }
      },
      "source": [
        "plt.plot(range(1440) ,temp[:1440])"
      ],
      "execution_count": 0,
      "outputs": [
        {
          "output_type": "execute_result",
          "data": {
            "text/plain": [
              "[<matplotlib.lines.Line2D at 0x7f356a1fa160>]"
            ]
          },
          "metadata": {
            "tags": []
          },
          "execution_count": 25
        },
        {
          "output_type": "display_data",
          "data": {
            "image/png": "[encoded data removed]",
            "text/plain": [
              "<Figure size 432x288 with 1 Axes>"
            ]
          },
          "metadata": {
            "tags": []
          }
        }
      ]
    },
    {
      "cell_type": "code",
      "metadata": {
        "id": "KE7AY3tsa0LQ",
        "colab_type": "code",
        "colab": {}
      },
      "source": [
        "mean = float_data[:200000].mean(axis = 0)\n",
        "float_data -= mean\n",
        "std = float_data[:200000].std(axis = 0)\n",
        "float_data /= std"
      ],
      "execution_count": 0,
      "outputs": []
    },
    {
      "cell_type": "code",
      "metadata": {
        "id": "UVA5O9nea0JB",
        "colab_type": "code",
        "colab": {}
      },
      "source": [
        "def generator(data, lookback, delay, min_index, max_index,\n",
        "              shuffle=False, batch_size=128, step=6):\n",
        "    if max_index is None:\n",
        "        max_index = len(data) - delay - 1\n",
        "    i = min_index + lookback\n",
        "    while 1:\n",
        "        if shuffle:\n",
        "            rows = np.random.randint(\n",
        "                min_index + lookback, max_index, size=batch_size)\n",
        "        else:\n",
        "            if i + batch_size >= max_index:\n",
        "                i = min_index + lookback\n",
        "            rows = np.arange(i, min(i + batch_size, max_index))\n",
        "            i += len(rows)\n",
        "\n",
        "        samples = np.zeros((len(rows),\n",
        "                           lookback // step,\n",
        "                           data.shape[-1]))\n",
        "        targets = np.zeros((len(rows),))\n",
        "        for j, row in enumerate(rows):\n",
        "            indices = range(rows[j] - lookback, rows[j], step)\n",
        "            samples[j] = data[indices]\n",
        "            targets[j] = data[rows[j] + delay][1]\n",
        "        yield samples, targets"
      ],
      "execution_count": 0,
      "outputs": []
    },
    {
      "cell_type": "code",
      "metadata": {
        "id": "v00_vNhqa0GD",
        "colab_type": "code",
        "colab": {}
      },
      "source": [
        "lookback = 1440\n",
        "step = 6\n",
        "delay = 144\n",
        "batch_size = 128\n",
        "\n",
        "train_gen = generator(float_data,\n",
        "                      lookback=lookback,\n",
        "                      delay=delay,\n",
        "                      min_index=0,\n",
        "                      max_index=200000,\n",
        "                      shuffle=True,\n",
        "                      step=step, \n",
        "                      batch_size=batch_size)\n",
        "val_gen = generator(float_data,\n",
        "                    lookback=lookback,\n",
        "                    delay=delay,\n",
        "                    min_index=200001,\n",
        "                    max_index=300000,\n",
        "                    step=step,\n",
        "                    batch_size=batch_size)\n",
        "test_gen = generator(float_data,\n",
        "                     lookback=lookback,\n",
        "                     delay=delay,\n",
        "                     min_index=300001,\n",
        "                     max_index=None,\n",
        "                     step=step,\n",
        "                     batch_size=batch_size)\n",
        "\n",
        "# 전체 검증 세트를 순회하기 위해 val_gen에서 추출할 횟수\n",
        "val_steps = (300000 - 200001 - lookback) // batch_size\n",
        "\n",
        "# 전체 테스트 세트를 순회하기 위해 test_gen에서 추출할 횟수\n",
        "test_steps = (len(float_data) - 300001 - lookback) // batch_size"
      ],
      "execution_count": 0,
      "outputs": []
    },
    {
      "cell_type": "code",
      "metadata": {
        "id": "g6hQcv2Pa0Er",
        "colab_type": "code",
        "outputId": "a72bcab1-641b-479d-bcc8-b408ef2b9655",
        "colab": {
          "base_uri": "https://localhost:8080/",
          "height": 34
        }
      },
      "source": [
        "def evaluate_naive_method():\n",
        "    batch_maes = []\n",
        "    for step in range(val_steps):\n",
        "        samples, targets = next(val_gen)\n",
        "        preds = samples[:, -1, 1]\n",
        "        mae = np.mean(np.abs(preds - targets))\n",
        "        batch_maes.append(mae)\n",
        "    print(np.mean(batch_maes))\n",
        "    \n",
        "evaluate_naive_method()"
      ],
      "execution_count": 11,
      "outputs": [
        {
          "output_type": "stream",
          "text": [
            "0.2897359729905486\n"
          ],
          "name": "stdout"
        }
      ]
    },
    {
      "cell_type": "code",
      "metadata": {
        "id": "aJiLshvaa0BT",
        "colab_type": "code",
        "outputId": "26c3eac7-4544-43f6-96ca-3bf6f8a73ca5",
        "colab": {
          "base_uri": "https://localhost:8080/",
          "height": 34
        }
      },
      "source": [
        "celsius_mae = 0.29 * std[1]\n",
        "print(celsius_mae)"
      ],
      "execution_count": 0,
      "outputs": [
        {
          "output_type": "stream",
          "text": [
            "2.5672247338393395\n"
          ],
          "name": "stdout"
        }
      ]
    },
    {
      "cell_type": "code",
      "metadata": {
        "id": "UqGYS6LUwB9E",
        "colab_type": "code",
        "outputId": "9aaa344b-5a71-40c7-c481-82ea85ffbd93",
        "colab": {
          "base_uri": "https://localhost:8080/",
          "height": 787
        }
      },
      "source": [
        "from tensorflow.keras.models import Sequential\n",
        "from tensorflow.keras import layers\n",
        "from tensorflow.keras.optimizers import RMSprop\n",
        "\n",
        "model = Sequential()\n",
        "model.add(layers.Flatten(input_shape=(lookback // step, float_data.shape[-1])))\n",
        "model.add(layers.Dense(32, activation='relu'))\n",
        "model.add(layers.Dense(1))\n",
        "\n",
        "model.compile(optimizer=RMSprop(), loss='mae')\n",
        "history = model.fit_generator(train_gen,\n",
        "                              steps_per_epoch=500,\n",
        "                              epochs=20,\n",
        "                              validation_data=val_gen,\n",
        "                              validation_steps=val_steps)"
      ],
      "execution_count": 0,
      "outputs": [
        {
          "output_type": "stream",
          "text": [
            "WARNING:tensorflow:From <ipython-input-31-afdf42fff211>:15: Model.fit_generator (from tensorflow.python.keras.engine.training) is deprecated and will be removed in a future version.\n",
            "Instructions for updating:\n",
            "Please use Model.fit, which supports generators.\n",
            "Epoch 1/20\n",
            "500/500 [==============================] - 10s 21ms/step - loss: 1.7156 - val_loss: 0.7739\n",
            "Epoch 2/20\n",
            "500/500 [==============================] - 11s 21ms/step - loss: 0.5773 - val_loss: 0.3309\n",
            "Epoch 3/20\n",
            "500/500 [==============================] - 10s 21ms/step - loss: 0.3287 - val_loss: 0.3796\n",
            "Epoch 4/20\n",
            "500/500 [==============================] - 10s 21ms/step - loss: 0.2777 - val_loss: 0.3053\n",
            "Epoch 5/20\n",
            "500/500 [==============================] - 10s 21ms/step - loss: 0.2602 - val_loss: 0.3035\n",
            "Epoch 6/20\n",
            "500/500 [==============================] - 10s 21ms/step - loss: 0.2510 - val_loss: 0.3127\n",
            "Epoch 7/20\n",
            "500/500 [==============================] - 11s 22ms/step - loss: 0.2415 - val_loss: 0.3174\n",
            "Epoch 8/20\n",
            "500/500 [==============================] - 11s 21ms/step - loss: 0.2344 - val_loss: 0.3160\n",
            "Epoch 9/20\n",
            "500/500 [==============================] - 10s 21ms/step - loss: 0.2295 - val_loss: 0.3705\n",
            "Epoch 10/20\n",
            "500/500 [==============================] - 11s 21ms/step - loss: 0.2249 - val_loss: 0.3254\n",
            "Epoch 11/20\n",
            "500/500 [==============================] - 10s 21ms/step - loss: 0.2225 - val_loss: 0.3282\n",
            "Epoch 12/20\n",
            "500/500 [==============================] - 11s 21ms/step - loss: 0.2172 - val_loss: 0.3223\n",
            "Epoch 13/20\n",
            "500/500 [==============================] - 11s 22ms/step - loss: 0.2145 - val_loss: 0.3299\n",
            "Epoch 14/20\n",
            "500/500 [==============================] - 12s 25ms/step - loss: 0.2112 - val_loss: 0.3389\n",
            "Epoch 15/20\n",
            "500/500 [==============================] - 11s 21ms/step - loss: 0.2086 - val_loss: 0.3369\n",
            "Epoch 16/20\n",
            "500/500 [==============================] - 11s 21ms/step - loss: 0.2071 - val_loss: 0.3482\n",
            "Epoch 17/20\n",
            "500/500 [==============================] - 10s 21ms/step - loss: 0.2047 - val_loss: 0.3577\n",
            "Epoch 18/20\n",
            "500/500 [==============================] - 10s 21ms/step - loss: 0.2015 - val_loss: 0.3556\n",
            "Epoch 19/20\n",
            "500/500 [==============================] - 10s 21ms/step - loss: 0.2020 - val_loss: 0.3409\n",
            "Epoch 20/20\n",
            "500/500 [==============================] - 11s 21ms/step - loss: 0.1983 - val_loss: 0.3722\n"
          ],
          "name": "stdout"
        }
      ]
    },
    {
      "cell_type": "code",
      "metadata": {
        "id": "ayFhq_izwB7m",
        "colab_type": "code",
        "outputId": "3e2fcf84-742e-49ac-9d82-f2d6b5f52990",
        "colab": {
          "base_uri": "https://localhost:8080/",
          "height": 281
        }
      },
      "source": [
        "import matplotlib.pyplot as plt\n",
        "\n",
        "loss = history.history['loss']\n",
        "val_loss = history.history['val_loss']\n",
        "\n",
        "epochs = range(1, len(loss) + 1)\n",
        "\n",
        "plt.figure()\n",
        "\n",
        "plt.plot(epochs, loss, 'bo', label='Training loss')\n",
        "plt.plot(epochs, val_loss, 'b', label='Validation loss')\n",
        "plt.title('Training and validation loss')\n",
        "plt.legend()\n",
        "\n",
        "plt.show()"
      ],
      "execution_count": 0,
      "outputs": [
        {
          "output_type": "display_data",
          "data": {
            "image/png": "[encoded data removed]",
            "text/plain": [
              "<Figure size 432x288 with 1 Axes>"
            ]
          },
          "metadata": {
            "tags": []
          }
        }
      ]
    },
    {
      "cell_type": "code",
      "metadata": {
        "id": "qSJcWgMuwB6Z",
        "colab_type": "code",
        "outputId": "75dd2cbd-1479-4633-d146-c44562651e28",
        "colab": {
          "base_uri": "https://localhost:8080/",
          "height": 715
        }
      },
      "source": [
        "model = Sequential()\n",
        "model.add(layers.GRU(32, input_shape=(None, float_data.shape[-1])))\n",
        "model.add(layers.Dense(1))\n",
        "\n",
        "model.compile(optimizer=RMSprop(), loss='mae')\n",
        "history = model.fit_generator(train_gen,\n",
        "                              steps_per_epoch=500,\n",
        "                              epochs=20,\n",
        "                              validation_data=val_gen,\n",
        "                              validation_steps=val_steps)"
      ],
      "execution_count": 0,
      "outputs": [
        {
          "output_type": "stream",
          "text": [
            "Epoch 1/20\n",
            "500/500 [==============================] - 15s 30ms/step - loss: 0.3056 - val_loss: 0.2663\n",
            "Epoch 2/20\n",
            "500/500 [==============================] - 15s 30ms/step - loss: 0.2833 - val_loss: 0.2678\n",
            "Epoch 3/20\n",
            "500/500 [==============================] - 15s 30ms/step - loss: 0.2765 - val_loss: 0.2651\n",
            "Epoch 4/20\n",
            "500/500 [==============================] - 15s 30ms/step - loss: 0.2723 - val_loss: 0.2653\n",
            "Epoch 5/20\n",
            "500/500 [==============================] - 15s 29ms/step - loss: 0.2673 - val_loss: 0.2644\n",
            "Epoch 6/20\n",
            "500/500 [==============================] - 15s 29ms/step - loss: 0.2638 - val_loss: 0.2671\n",
            "Epoch 7/20\n",
            "500/500 [==============================] - 15s 29ms/step - loss: 0.2591 - val_loss: 0.2650\n",
            "Epoch 8/20\n",
            "500/500 [==============================] - 15s 30ms/step - loss: 0.2533 - val_loss: 0.2669\n",
            "Epoch 9/20\n",
            "500/500 [==============================] - 15s 29ms/step - loss: 0.2502 - val_loss: 0.2698\n",
            "Epoch 10/20\n",
            "500/500 [==============================] - 15s 30ms/step - loss: 0.2467 - val_loss: 0.2749\n",
            "Epoch 11/20\n",
            "500/500 [==============================] - 15s 30ms/step - loss: 0.2418 - val_loss: 0.2753\n",
            "Epoch 12/20\n",
            "500/500 [==============================] - 15s 30ms/step - loss: 0.2381 - val_loss: 0.2808\n",
            "Epoch 13/20\n",
            "500/500 [==============================] - 15s 30ms/step - loss: 0.2335 - val_loss: 0.2785\n",
            "Epoch 14/20\n",
            "500/500 [==============================] - 15s 30ms/step - loss: 0.2302 - val_loss: 0.2873\n",
            "Epoch 15/20\n",
            "500/500 [==============================] - 15s 30ms/step - loss: 0.2269 - val_loss: 0.2842\n",
            "Epoch 16/20\n",
            "500/500 [==============================] - 15s 29ms/step - loss: 0.2203 - val_loss: 0.2903\n",
            "Epoch 17/20\n",
            "500/500 [==============================] - 15s 30ms/step - loss: 0.2189 - val_loss: 0.2922\n",
            "Epoch 18/20\n",
            "500/500 [==============================] - 15s 30ms/step - loss: 0.2154 - val_loss: 0.3021\n",
            "Epoch 19/20\n",
            "500/500 [==============================] - 15s 29ms/step - loss: 0.2114 - val_loss: 0.2917\n",
            "Epoch 20/20\n",
            "500/500 [==============================] - 15s 29ms/step - loss: 0.2089 - val_loss: 0.3045\n"
          ],
          "name": "stdout"
        }
      ]
    },
    {
      "cell_type": "code",
      "metadata": {
        "id": "2SDzvPVCwB5C",
        "colab_type": "code",
        "outputId": "c9108383-f7b7-48b8-c35b-43d6e720770e",
        "colab": {
          "base_uri": "https://localhost:8080/",
          "height": 281
        }
      },
      "source": [
        "loss = history.history['loss']\n",
        "val_loss = history.history['val_loss']\n",
        "\n",
        "epochs = range(1, len(loss) + 1)\n",
        "\n",
        "plt.figure()\n",
        "\n",
        "plt.plot(epochs, loss, 'bo', label='Training loss')\n",
        "plt.plot(epochs, val_loss, 'b', label='Validation loss')\n",
        "plt.title('Training and validation loss')\n",
        "plt.legend()\n",
        "\n",
        "plt.show()"
      ],
      "execution_count": 0,
      "outputs": [
        {
          "output_type": "display_data",
          "data": {
            "image/png": "[encoded data removed]",
            "text/plain": [
              "<Figure size 432x288 with 1 Axes>"
            ]
          },
          "metadata": {
            "tags": []
          }
        }
      ]
    },
    {
      "cell_type": "code",
      "metadata": {
        "id": "CJ1qGIbU6aAC",
        "colab_type": "code",
        "outputId": "0845a6ef-1b45-4dbc-9896-06140b606c6b",
        "colab": {
          "base_uri": "https://localhost:8080/",
          "height": 403
        }
      },
      "source": [
        "model = Sequential()\n",
        "model.add(layers.GRU(32,\n",
        "                     dropout=0.2,\n",
        "                     recurrent_dropout=0.2,\n",
        "                     input_shape=(None, float_data.shape[-1])))\n",
        "model.add(layers.Dense(1))\n",
        "\n",
        "model.compile(optimizer=RMSprop(), loss='mae')\n",
        "history = model.fit_generator(train_gen,\n",
        "                              steps_per_epoch=500,\n",
        "                              epochs=10,\n",
        "                              validation_data=val_gen,\n",
        "                              validation_steps=val_steps) # 에폭수 10으로 줄여서 시도"
      ],
      "execution_count": 0,
      "outputs": [
        {
          "output_type": "stream",
          "text": [
            "WARNING:tensorflow:Layer gru_1 will not use cuDNN kernel since it doesn't meet the cuDNN kernel criteria. It will use generic GPU kernel as fallback when running on GPU\n",
            "Epoch 1/10\n",
            "500/500 [==============================] - 434s 867ms/step - loss: 0.3267 - val_loss: 0.3002\n",
            "Epoch 2/10\n",
            "500/500 [==============================] - 418s 836ms/step - loss: 0.3067 - val_loss: 0.2737\n",
            "Epoch 3/10\n",
            "500/500 [==============================] - 424s 847ms/step - loss: 0.2994 - val_loss: 0.2769\n",
            "Epoch 4/10\n",
            "500/500 [==============================] - 424s 847ms/step - loss: 0.2960 - val_loss: 0.2750\n",
            "Epoch 5/10\n",
            "500/500 [==============================] - 425s 850ms/step - loss: 0.2924 - val_loss: 0.2799\n",
            "Epoch 6/10\n",
            "500/500 [==============================] - 420s 841ms/step - loss: 0.2886 - val_loss: 0.2678\n",
            "Epoch 7/10\n",
            "500/500 [==============================] - 419s 838ms/step - loss: 0.2865 - val_loss: 0.2696\n",
            "Epoch 8/10\n",
            "500/500 [==============================] - 414s 828ms/step - loss: 0.2811 - val_loss: 0.2667\n",
            "Epoch 9/10\n",
            "500/500 [==============================] - 427s 854ms/step - loss: 0.2787 - val_loss: 0.2743\n",
            "Epoch 10/10\n",
            "500/500 [==============================] - 452s 904ms/step - loss: 0.2751 - val_loss: 0.2723\n"
          ],
          "name": "stdout"
        }
      ]
    },
    {
      "cell_type": "code",
      "metadata": {
        "id": "99UTmN4x6aOr",
        "colab_type": "code",
        "outputId": "11263740-4b10-4539-c0ae-d5db2eb95742",
        "colab": {
          "base_uri": "https://localhost:8080/",
          "height": 281
        }
      },
      "source": [
        "loss = history.history['loss']\n",
        "val_loss = history.history['val_loss']\n",
        "\n",
        "epochs = range(1, len(loss) + 1)\n",
        "\n",
        "plt.figure()\n",
        "\n",
        "plt.plot(epochs, loss, 'bo', label='Training loss')\n",
        "plt.plot(epochs, val_loss, 'b', label='Validation loss')\n",
        "plt.title('Training and validation loss')\n",
        "plt.legend()\n",
        "\n",
        "plt.show()"
      ],
      "execution_count": 0,
      "outputs": [
        {
          "output_type": "display_data",
          "data": {
            "image/png": "[encoded data removed]",
            "text/plain": [
              "<Figure size 432x288 with 1 Axes>"
            ]
          },
          "metadata": {
            "tags": []
          }
        }
      ]
    },
    {
      "cell_type": "code",
      "metadata": {
        "id": "GrcVfCiDwB3V",
        "colab_type": "code",
        "outputId": "bfe3ea47-bd65-43bb-f965-0c9691b51a75",
        "colab": {
          "base_uri": "https://localhost:8080/",
          "height": 421
        }
      },
      "source": [
        "model = Sequential()\n",
        "model.add(layers.GRU(32,\n",
        "                     dropout=0.1,\n",
        "                     recurrent_dropout=0.5,\n",
        "                     return_sequences=True,\n",
        "                     input_shape=(None, float_data.shape[-1])))\n",
        "model.add(layers.GRU(64, activation='relu',\n",
        "                     dropout=0.1, \n",
        "                     recurrent_dropout=0.5))\n",
        "model.add(layers.Dense(1))\n",
        "\n",
        "model.compile(optimizer=RMSprop(), loss='mae')\n",
        "history = model.fit_generator(train_gen,\n",
        "                              steps_per_epoch=500,\n",
        "                              epochs=10,\n",
        "                              validation_data=val_gen,\n",
        "                              validation_steps=val_steps)"
      ],
      "execution_count": 0,
      "outputs": [
        {
          "output_type": "stream",
          "text": [
            "WARNING:tensorflow:Layer gru_2 will not use cuDNN kernel since it doesn't meet the cuDNN kernel criteria. It will use generic GPU kernel as fallback when running on GPU\n",
            "WARNING:tensorflow:Layer gru_3 will not use cuDNN kernel since it doesn't meet the cuDNN kernel criteria. It will use generic GPU kernel as fallback when running on GPU\n",
            "Epoch 1/10\n",
            "500/500 [==============================] - 912s 2s/step - loss: 0.3203 - val_loss: 0.2749\n",
            "Epoch 2/10\n",
            "500/500 [==============================] - 904s 2s/step - loss: 0.2988 - val_loss: 0.2739\n",
            "Epoch 3/10\n",
            "500/500 [==============================] - 932s 2s/step - loss: 0.2925 - val_loss: 0.2697\n",
            "Epoch 4/10\n",
            "500/500 [==============================] - 931s 2s/step - loss: 0.2856 - val_loss: 0.2635\n",
            "Epoch 5/10\n",
            "500/500 [==============================] - 935s 2s/step - loss: 0.2788 - val_loss: 0.2665\n",
            "Epoch 6/10\n",
            "500/500 [==============================] - 862s 2s/step - loss: 0.2725 - val_loss: 0.2720\n",
            "Epoch 7/10\n",
            "500/500 [==============================] - 852s 2s/step - loss: 0.2685 - val_loss: 0.2860\n",
            "Epoch 8/10\n",
            "500/500 [==============================] - 852s 2s/step - loss: 0.2630 - val_loss: 0.2819\n",
            "Epoch 9/10\n",
            "500/500 [==============================] - 853s 2s/step - loss: 0.2590 - val_loss: 0.2780\n",
            "Epoch 10/10\n",
            "500/500 [==============================] - 863s 2s/step - loss: 0.2526 - val_loss: 0.2801\n"
          ],
          "name": "stdout"
        }
      ]
    },
    {
      "cell_type": "code",
      "metadata": {
        "id": "M096YLkrwB1f",
        "colab_type": "code",
        "outputId": "45b588d4-2ae8-494e-9fcd-26a5be68fe9c",
        "colab": {
          "base_uri": "https://localhost:8080/",
          "height": 281
        }
      },
      "source": [
        "loss = history.history['loss']\n",
        "val_loss = history.history['val_loss']\n",
        "\n",
        "epochs = range(1, len(loss) + 1)\n",
        "\n",
        "plt.figure()\n",
        "\n",
        "plt.plot(epochs, loss, 'bo', label='Training loss')\n",
        "plt.plot(epochs, val_loss, 'b', label='Validation loss')\n",
        "plt.title('Training and validation loss')\n",
        "plt.legend()\n",
        "\n",
        "plt.show()"
      ],
      "execution_count": 0,
      "outputs": [
        {
          "output_type": "display_data",
          "data": {
            "image/png": "[encoded data removed]",
            "text/plain": [
              "<Figure size 432x288 with 1 Axes>"
            ]
          },
          "metadata": {
            "tags": []
          }
        }
      ]
    },
    {
      "cell_type": "code",
      "metadata": {
        "id": "Pxo4ZStawBye",
        "colab_type": "code",
        "colab": {
          "base_uri": "https://localhost:8080/",
          "height": 366
        },
        "outputId": "2bc4ea7c-fb01-474c-92c9-1b709b839e92"
      },
      "source": [
        "from tensorflow.keras.datasets import imdb\n",
        "from tensorflow.keras.preprocessing import sequence\n",
        "from tensorflow.keras import layers\n",
        "from tensorflow.keras.models import Sequential\n",
        "\n",
        "max_features = 10000\n",
        "maxlen = 500\n",
        "\n",
        "(x_train, y_train), (x_test, y_test) = imdb.load_data(\n",
        "    num_words = max_features)\n",
        "\n",
        "\n",
        "x_train = [x[::-1] for x in x_train]\n",
        "x_test = [x[::-1] for x in x_test]\n",
        "\n",
        "x_train = sequence.pad_sequences(x_train, maxlen = maxlen)\n",
        "x_test = sequence.pad_sequences(x_test, maxlen = maxlen)\n",
        "\n",
        "model = Sequential()\n",
        "model.add(layers.Embedding(max_features, 128))\n",
        "model.add(layers.LSTM(32))\n",
        "model.add(layers.Dense(1, activation = 'sigmoid'))\n",
        "\n",
        "model.compile(optimizer = 'rmsprop',\n",
        "              loss = 'binary_crossentropy',\n",
        "              metrics = ['acc'])\n",
        "history = model.fit(x_train, y_train,\n",
        "                    epochs = 10,\n",
        "                    batch_size = 128,\n",
        "                    validation_split = 0.2)"
      ],
      "execution_count": 3,
      "outputs": [
        {
          "output_type": "stream",
          "text": [
            "Epoch 1/10\n",
            "157/157 [==============================] - 8s 49ms/step - loss: 0.4834 - acc: 0.7704 - val_loss: 0.3205 - val_acc: 0.8746\n",
            "Epoch 2/10\n",
            "157/157 [==============================] - 7s 45ms/step - loss: 0.3139 - acc: 0.8803 - val_loss: 0.3208 - val_acc: 0.8718\n",
            "Epoch 3/10\n",
            "157/157 [==============================] - 7s 46ms/step - loss: 0.2551 - acc: 0.9071 - val_loss: 0.3422 - val_acc: 0.8760\n",
            "Epoch 4/10\n",
            "157/157 [==============================] - 7s 46ms/step - loss: 0.2171 - acc: 0.9208 - val_loss: 0.3076 - val_acc: 0.8762\n",
            "Epoch 5/10\n",
            "157/157 [==============================] - 7s 46ms/step - loss: 0.1954 - acc: 0.9316 - val_loss: 0.8847 - val_acc: 0.7570\n",
            "Epoch 6/10\n",
            "157/157 [==============================] - 7s 45ms/step - loss: 0.1747 - acc: 0.9382 - val_loss: 0.3858 - val_acc: 0.8420\n",
            "Epoch 7/10\n",
            "157/157 [==============================] - 7s 45ms/step - loss: 0.1554 - acc: 0.9462 - val_loss: 0.4292 - val_acc: 0.8712\n",
            "Epoch 8/10\n",
            "157/157 [==============================] - 7s 45ms/step - loss: 0.1440 - acc: 0.9505 - val_loss: 0.4299 - val_acc: 0.8692\n",
            "Epoch 9/10\n",
            "157/157 [==============================] - 7s 45ms/step - loss: 0.1319 - acc: 0.9554 - val_loss: 0.4356 - val_acc: 0.8638\n",
            "Epoch 10/10\n",
            "157/157 [==============================] - 7s 45ms/step - loss: 0.1256 - acc: 0.9588 - val_loss: 0.5038 - val_acc: 0.8602\n"
          ],
          "name": "stdout"
        }
      ]
    },
    {
      "cell_type": "code",
      "metadata": {
        "id": "boB0cT4-eeWk",
        "colab_type": "code",
        "colab": {
          "base_uri": "https://localhost:8080/",
          "height": 366
        },
        "outputId": "8ee3d818-ced1-4b14-e4a6-36029c6a03eb"
      },
      "source": [
        "model = Sequential()\n",
        "model.add(layers.Embedding(max_features , 32))\n",
        "model.add(layers.Bidirectional(layers.LSTM(32)))\n",
        "model.add(layers.Dense(1, activation = 'sigmoid'))\n",
        "\n",
        "model.compile(optimizer = 'rmsprop', loss = 'binary_crossentropy', metrics = ['acc'])\n",
        "history = model.fit(x_train, y_train,\n",
        "                    epochs = 10,\n",
        "                    batch_size = 128,\n",
        "                    validation_size = 0.2)"
      ],
      "execution_count": 4,
      "outputs": [
        {
          "output_type": "stream",
          "text": [
            "Epoch 1/10\n",
            "196/196 [==============================] - 8s 43ms/step - loss: 0.5370 - acc: 0.7353\n",
            "Epoch 2/10\n",
            "196/196 [==============================] - 8s 43ms/step - loss: 0.3346 - acc: 0.8690\n",
            "Epoch 3/10\n",
            "196/196 [==============================] - 8s 43ms/step - loss: 0.2727 - acc: 0.8993\n",
            "Epoch 4/10\n",
            "196/196 [==============================] - 9s 44ms/step - loss: 0.2389 - acc: 0.9138\n",
            "Epoch 5/10\n",
            "196/196 [==============================] - 8s 43ms/step - loss: 0.2208 - acc: 0.9230\n",
            "Epoch 6/10\n",
            "196/196 [==============================] - 8s 43ms/step - loss: 0.1972 - acc: 0.9306\n",
            "Epoch 7/10\n",
            "196/196 [==============================] - 8s 43ms/step - loss: 0.1819 - acc: 0.9381\n",
            "Epoch 8/10\n",
            "196/196 [==============================] - 9s 43ms/step - loss: 0.1689 - acc: 0.9430\n",
            "Epoch 9/10\n",
            "196/196 [==============================] - 8s 43ms/step - loss: 0.1571 - acc: 0.9454\n",
            "Epoch 10/10\n",
            "196/196 [==============================] - 8s 43ms/step - loss: 0.1529 - acc: 0.9483\n"
          ],
          "name": "stdout"
        }
      ]
    },
    {
      "cell_type": "code",
      "metadata": {
        "id": "sSkAREleeexB",
        "colab_type": "code",
        "colab": {
          "base_uri": "https://localhost:8080/",
          "height": 1000
        },
        "outputId": "0847ad5a-492c-41cb-c8bf-5c4394508afa"
      },
      "source": [
        "from tensorflow.keras.models import Sequential\n",
        "from tensorflow.keras import layers\n",
        "from tensorflow.keras.optimizers import RMSprop\n",
        "\n",
        "model = Sequential()\n",
        "model.add(layers.Bidirectional(\n",
        "    layers.GRU(32),input_shape = (None, float_data.shape[-1])))\n",
        "model.add(layers.Dense(1))\n",
        "\n",
        "model.compile(optimizer = RMSprop(), loss = 'mae')\n",
        "history = model.fit_generator(train_gen,\n",
        "                              steps_per_epoch = 500,\n",
        "                              epochs = 40,\n",
        "                              validation_data = val_gen,\n",
        "                              validation_steps = val_steps)"
      ],
      "execution_count": 16,
      "outputs": [
        {
          "output_type": "stream",
          "text": [
            "Epoch 1/40\n",
            "500/500 [==============================] - 21s 42ms/step - loss: 0.2986 - val_loss: 0.2703\n",
            "Epoch 2/40\n",
            "500/500 [==============================] - 20s 41ms/step - loss: 0.2743 - val_loss: 0.2643\n",
            "Epoch 3/40\n",
            "500/500 [==============================] - 21s 41ms/step - loss: 0.2683 - val_loss: 0.2682\n",
            "Epoch 4/40\n",
            "500/500 [==============================] - 20s 41ms/step - loss: 0.2617 - val_loss: 0.2648\n",
            "Epoch 5/40\n",
            "500/500 [==============================] - 20s 40ms/step - loss: 0.2551 - val_loss: 0.2701\n",
            "Epoch 6/40\n",
            "500/500 [==============================] - 20s 40ms/step - loss: 0.2508 - val_loss: 0.2695\n",
            "Epoch 7/40\n",
            "500/500 [==============================] - 21s 41ms/step - loss: 0.2433 - val_loss: 0.2698\n",
            "Epoch 8/40\n",
            "500/500 [==============================] - 20s 40ms/step - loss: 0.2354 - val_loss: 0.2779\n",
            "Epoch 9/40\n",
            "500/500 [==============================] - 20s 40ms/step - loss: 0.2300 - val_loss: 0.2865\n",
            "Epoch 10/40\n",
            "500/500 [==============================] - 20s 40ms/step - loss: 0.2225 - val_loss: 0.2853\n",
            "Epoch 11/40\n",
            "500/500 [==============================] - 20s 40ms/step - loss: 0.2174 - val_loss: 0.2922\n",
            "Epoch 12/40\n",
            "500/500 [==============================] - 20s 40ms/step - loss: 0.2109 - val_loss: 0.2933\n",
            "Epoch 13/40\n",
            "500/500 [==============================] - 20s 40ms/step - loss: 0.2038 - val_loss: 0.3084\n",
            "Epoch 14/40\n",
            "500/500 [==============================] - 20s 40ms/step - loss: 0.1994 - val_loss: 0.3052\n",
            "Epoch 15/40\n",
            "500/500 [==============================] - 20s 40ms/step - loss: 0.1937 - val_loss: 0.3096\n",
            "Epoch 16/40\n",
            "500/500 [==============================] - 20s 40ms/step - loss: 0.1901 - val_loss: 0.3093\n",
            "Epoch 17/40\n",
            "500/500 [==============================] - 20s 40ms/step - loss: 0.1854 - val_loss: 0.3200\n",
            "Epoch 18/40\n",
            "500/500 [==============================] - 20s 40ms/step - loss: 0.1800 - val_loss: 0.3221\n",
            "Epoch 19/40\n",
            "500/500 [==============================] - 20s 41ms/step - loss: 0.1766 - val_loss: 0.3267\n",
            "Epoch 20/40\n",
            "500/500 [==============================] - 20s 40ms/step - loss: 0.1713 - val_loss: 0.3308\n",
            "Epoch 21/40\n",
            "500/500 [==============================] - 20s 40ms/step - loss: 0.1688 - val_loss: 0.3323\n",
            "Epoch 22/40\n",
            "500/500 [==============================] - 20s 40ms/step - loss: 0.1668 - val_loss: 0.3239\n",
            "Epoch 23/40\n",
            "500/500 [==============================] - 20s 40ms/step - loss: 0.1633 - val_loss: 0.3291\n",
            "Epoch 24/40\n",
            "500/500 [==============================] - 20s 40ms/step - loss: 0.1609 - val_loss: 0.3296\n",
            "Epoch 25/40\n",
            "500/500 [==============================] - 20s 40ms/step - loss: 0.1580 - val_loss: 0.3357\n",
            "Epoch 26/40\n",
            "500/500 [==============================] - 20s 40ms/step - loss: 0.1557 - val_loss: 0.3388\n",
            "Epoch 27/40\n",
            "500/500 [==============================] - 20s 40ms/step - loss: 0.1540 - val_loss: 0.3327\n",
            "Epoch 28/40\n",
            "500/500 [==============================] - 24s 48ms/step - loss: 0.1512 - val_loss: 0.3372\n",
            "Epoch 29/40\n",
            "500/500 [==============================] - 21s 43ms/step - loss: 0.1494 - val_loss: 0.3339\n",
            "Epoch 30/40\n",
            "500/500 [==============================] - 20s 40ms/step - loss: 0.1471 - val_loss: 0.3409\n",
            "Epoch 31/40\n",
            "500/500 [==============================] - 20s 40ms/step - loss: 0.1447 - val_loss: 0.3336\n",
            "Epoch 32/40\n",
            "500/500 [==============================] - 20s 40ms/step - loss: 0.1432 - val_loss: 0.3371\n",
            "Epoch 33/40\n",
            "500/500 [==============================] - 20s 40ms/step - loss: 0.1414 - val_loss: 0.3364\n",
            "Epoch 34/40\n",
            "500/500 [==============================] - 20s 41ms/step - loss: 0.1410 - val_loss: 0.3384\n",
            "Epoch 35/40\n",
            "500/500 [==============================] - 20s 40ms/step - loss: 0.1384 - val_loss: 0.3335\n",
            "Epoch 36/40\n",
            "500/500 [==============================] - 20s 40ms/step - loss: 0.1365 - val_loss: 0.3383\n",
            "Epoch 37/40\n",
            "500/500 [==============================] - 20s 40ms/step - loss: 0.1365 - val_loss: 0.3391\n",
            "Epoch 38/40\n",
            "500/500 [==============================] - 20s 40ms/step - loss: 0.1356 - val_loss: 0.3374\n",
            "Epoch 39/40\n",
            "500/500 [==============================] - 20s 40ms/step - loss: 0.1332 - val_loss: 0.3380\n",
            "Epoch 40/40\n",
            "500/500 [==============================] - 20s 39ms/step - loss: 0.1319 - val_loss: 0.3340\n"
          ],
          "name": "stdout"
        }
      ]
    },
    {
      "cell_type": "code",
      "metadata": {
        "id": "PF0Nbe-yeet5",
        "colab_type": "code",
        "colab": {
          "base_uri": "https://localhost:8080/",
          "height": 121
        },
        "outputId": "7ccf9847-d264-4731-e5ff-2517916204ff"
      },
      "source": [
        "# 1D convnet\n",
        "\n",
        "from tensorflow.keras.datasets import imdb\n",
        "from tensorflow.keras.preprocessing import sequence\n",
        "\n",
        "\n",
        "max_features = 10000\n",
        "max_len = 500\n",
        "\n",
        "print('데이터 로드....')\n",
        "(x_train, y_train), (x_test, y_test) = imdb.load_data(num_words = max_features)\n",
        "print(len(x_train), '훈련 시퀀스')\n",
        "print(len(x_test), '테스트 시퀀스')\n",
        "\n",
        "print('시퀀스 패딩 (samples x time)')\n",
        "x_train = sequence.pad_sequences(x_train, maxlen = max_len)\n",
        "x_test = sequence.pad_sequences(x_test, maxlen = max_len)\n",
        "print('x_train 의 크기:', x_train.shape)\n",
        "print('x_test의 크기 :', x_test.shape)"
      ],
      "execution_count": 19,
      "outputs": [
        {
          "output_type": "stream",
          "text": [
            "데이터 로드....\n",
            "25000 훈련 시퀀스\n",
            "25000 테스트 시퀀스\n",
            "시퀀스 패딩 (samples x time)\n",
            "x_train 의 크기: (25000, 500)\n",
            "x_test의 크기 : (25000, 500)\n"
          ],
          "name": "stdout"
        }
      ]
    },
    {
      "cell_type": "code",
      "metadata": {
        "id": "rpO4iv4keer3",
        "colab_type": "code",
        "colab": {
          "base_uri": "https://localhost:8080/",
          "height": 715
        },
        "outputId": "f182f45a-e743-472c-a1f7-96fa8226eba4"
      },
      "source": [
        "from tensorflow.keras.models import Sequential\n",
        "from tensorflow.keras import layers\n",
        "from tensorflow.keras.optimizers  import RMSprop\n",
        "\n",
        "model = Sequential()\n",
        "model.add(layers.Embedding(max_features, 128, input_length = max_len))\n",
        "model.add(layers.Conv1D(32, 7, activation = 'relu'))\n",
        "model.add(layers.MaxPooling1D(5))\n",
        "model.add(layers.Conv1D(32, 7, activation = 'relu'))\n",
        "model.add(layers.GlobalMaxPooling1D())\n",
        "model.add(layers.Dense(1))\n",
        "\n",
        "model.summary()\n",
        "\n",
        "model.compile(optimizer = RMSprop(lr = 1e-4),\n",
        "              loss = 'binary_crossentropy',\n",
        "              metrics = ['acc'])\n",
        "\n",
        "history = model.fit(x_train, y_train,\n",
        "                    epochs = 10,\n",
        "                    batch_size = 128,\n",
        "                    validation_split = 0.2)\n"
      ],
      "execution_count": 20,
      "outputs": [
        {
          "output_type": "stream",
          "text": [
            "Model: \"sequential_8\"\n",
            "_________________________________________________________________\n",
            "Layer (type)                 Output Shape              Param #   \n",
            "=================================================================\n",
            "embedding_2 (Embedding)      (None, 500, 128)          1280000   \n",
            "_________________________________________________________________\n",
            "conv1d (Conv1D)              (None, 494, 32)           28704     \n",
            "_________________________________________________________________\n",
            "max_pooling1d (MaxPooling1D) (None, 98, 32)            0         \n",
            "_________________________________________________________________\n",
            "conv1d_1 (Conv1D)            (None, 92, 32)            7200      \n",
            "_________________________________________________________________\n",
            "global_max_pooling1d (Global (None, 32)                0         \n",
            "_________________________________________________________________\n",
            "dense_4 (Dense)              (None, 1)                 33        \n",
            "=================================================================\n",
            "Total params: 1,315,937\n",
            "Trainable params: 1,315,937\n",
            "Non-trainable params: 0\n",
            "_________________________________________________________________\n",
            "Epoch 1/10\n",
            "157/157 [==============================] - 5s 31ms/step - loss: 0.9124 - acc: 0.5155 - val_loss: 0.6849 - val_acc: 0.5772\n",
            "Epoch 2/10\n",
            "157/157 [==============================] - 5s 29ms/step - loss: 0.6668 - acc: 0.6702 - val_loss: 0.6612 - val_acc: 0.6696\n",
            "Epoch 3/10\n",
            "157/157 [==============================] - 5s 29ms/step - loss: 0.6184 - acc: 0.7655 - val_loss: 0.6007 - val_acc: 0.7480\n",
            "Epoch 4/10\n",
            "157/157 [==============================] - 5s 30ms/step - loss: 0.5188 - acc: 0.8103 - val_loss: 0.4817 - val_acc: 0.8044\n",
            "Epoch 5/10\n",
            "157/157 [==============================] - 5s 30ms/step - loss: 0.3987 - acc: 0.8521 - val_loss: 0.4146 - val_acc: 0.8358\n",
            "Epoch 6/10\n",
            "157/157 [==============================] - 5s 30ms/step - loss: 0.3358 - acc: 0.8777 - val_loss: 0.4210 - val_acc: 0.8464\n",
            "Epoch 7/10\n",
            "157/157 [==============================] - 5s 31ms/step - loss: 0.2962 - acc: 0.8975 - val_loss: 0.4132 - val_acc: 0.8588\n",
            "Epoch 8/10\n",
            "157/157 [==============================] - 5s 30ms/step - loss: 0.2687 - acc: 0.9083 - val_loss: 0.4110 - val_acc: 0.8668\n",
            "Epoch 9/10\n",
            "157/157 [==============================] - 5s 29ms/step - loss: 0.2441 - acc: 0.9184 - val_loss: 0.4079 - val_acc: 0.8674\n",
            "Epoch 10/10\n",
            "157/157 [==============================] - 5s 30ms/step - loss: 0.2210 - acc: 0.9284 - val_loss: 0.4277 - val_acc: 0.8718\n"
          ],
          "name": "stdout"
        }
      ]
    },
    {
      "cell_type": "code",
      "metadata": {
        "id": "i8GtJsS4eeph",
        "colab_type": "code",
        "colab": {
          "base_uri": "https://localhost:8080/",
          "height": 281
        },
        "outputId": "062003c9-5e9a-4bb5-bff3-3944c70ee753"
      },
      "source": [
        "import matplotlib.pyplot as plt\n",
        "loss = history.history['loss']\n",
        "val_loss = history.history['val_loss']\n",
        "\n",
        "epochs = range(1, len(loss) + 1)\n",
        "\n",
        "plt.figure()\n",
        "\n",
        "plt.plot(epochs, loss, 'bo', label='Training loss')\n",
        "plt.plot(epochs, val_loss, 'b', label='Validation loss')\n",
        "plt.title('Training and validation loss')\n",
        "plt.legend()\n",
        "\n",
        "plt.show()"
      ],
      "execution_count": 22,
      "outputs": [
        {
          "output_type": "display_data",
          "data": {
            "image/png": "[encoded data removed]",
            "text/plain": [
              "<Figure size 432x288 with 1 Axes>"
            ]
          },
          "metadata": {
            "tags": []
          }
        }
      ]
    },
    {
      "cell_type": "code",
      "metadata": {
        "id": "ZjEzdDAIeenZ",
        "colab_type": "code",
        "colab": {
          "base_uri": "https://localhost:8080/",
          "height": 715
        },
        "outputId": "0b947def-4982-440c-ca40-a27f7bf5538e"
      },
      "source": [
        "from tensorflow.keras.models import Sequential\n",
        "from tensorflow.keras import layers\n",
        "from tensorflow.keras.optimizers import RMSprop\n",
        "\n",
        "model = Sequential()\n",
        "model.add(layers.Conv1D(32, 5, activation ='relu',\n",
        "                        input_shape = (None, float_data.shape[-1])))\n",
        "model.add(layers.MaxPooling1D(3))\n",
        "model.add(layers.Conv1D(32, 5, activation = 'relu'))\n",
        "model.add(layers.MaxPooling1D(3))\n",
        "model.add(layers.Conv1D(32, 5, activation = 'relu'))\n",
        "model.add(layers.GlobalMaxPooling1D())\n",
        "model.add(layers.Dense(1))\n",
        "\n",
        "model.compile(optimizer = RMSprop(), loss = 'mae')\n",
        "history = model.fit_generator(train_gen,\n",
        "                              steps_per_epoch = 500,\n",
        "                              epochs = 20,\n",
        "                              validation_data = val_gen,\n",
        "                              validation_steps = val_steps)"
      ],
      "execution_count": 27,
      "outputs": [
        {
          "output_type": "stream",
          "text": [
            "Epoch 1/20\n",
            "500/500 [==============================] - 11s 23ms/step - loss: 0.4171 - val_loss: 0.4426\n",
            "Epoch 2/20\n",
            "500/500 [==============================] - 11s 22ms/step - loss: 0.3603 - val_loss: 0.4530\n",
            "Epoch 3/20\n",
            "500/500 [==============================] - 11s 23ms/step - loss: 0.3373 - val_loss: 0.4663\n",
            "Epoch 4/20\n",
            "500/500 [==============================] - 12s 24ms/step - loss: 0.3179 - val_loss: 0.4438\n",
            "Epoch 5/20\n",
            "500/500 [==============================] - 12s 23ms/step - loss: 0.3038 - val_loss: 0.4568\n",
            "Epoch 6/20\n",
            "500/500 [==============================] - 12s 23ms/step - loss: 0.2954 - val_loss: 0.4443\n",
            "Epoch 7/20\n",
            "500/500 [==============================] - 12s 24ms/step - loss: 0.2860 - val_loss: 0.4740\n",
            "Epoch 8/20\n",
            "500/500 [==============================] - 12s 23ms/step - loss: 0.2778 - val_loss: 0.4811\n",
            "Epoch 9/20\n",
            "500/500 [==============================] - 12s 23ms/step - loss: 0.2739 - val_loss: 0.4774\n",
            "Epoch 10/20\n",
            "500/500 [==============================] - 11s 23ms/step - loss: 0.2694 - val_loss: 0.4758\n",
            "Epoch 11/20\n",
            "500/500 [==============================] - 12s 24ms/step - loss: 0.2651 - val_loss: 0.4567\n",
            "Epoch 12/20\n",
            "500/500 [==============================] - 11s 22ms/step - loss: 0.2619 - val_loss: 0.4612\n",
            "Epoch 13/20\n",
            "500/500 [==============================] - 11s 22ms/step - loss: 0.2577 - val_loss: 0.4613\n",
            "Epoch 14/20\n",
            "500/500 [==============================] - 11s 23ms/step - loss: 0.2537 - val_loss: 0.4750\n",
            "Epoch 15/20\n",
            "500/500 [==============================] - 11s 22ms/step - loss: 0.2505 - val_loss: 0.4880\n",
            "Epoch 16/20\n",
            "500/500 [==============================] - 11s 22ms/step - loss: 0.2501 - val_loss: 0.4792\n",
            "Epoch 17/20\n",
            "500/500 [==============================] - 11s 22ms/step - loss: 0.2444 - val_loss: 0.4827\n",
            "Epoch 18/20\n",
            "500/500 [==============================] - 11s 23ms/step - loss: 0.2434 - val_loss: 0.4694\n",
            "Epoch 19/20\n",
            "500/500 [==============================] - 11s 22ms/step - loss: 0.2416 - val_loss: 0.4775\n",
            "Epoch 20/20\n",
            "500/500 [==============================] - 11s 22ms/step - loss: 0.2398 - val_loss: 0.4771\n"
          ],
          "name": "stdout"
        }
      ]
    },
    {
      "cell_type": "code",
      "metadata": {
        "id": "9oi6Zxx4eekl",
        "colab_type": "code",
        "colab": {
          "base_uri": "https://localhost:8080/",
          "height": 281
        },
        "outputId": "c94ea63a-6145-4778-c681-c2f59f9fc726"
      },
      "source": [
        "import matplotlib.pyplot as plt\n",
        "loss = history.history['loss']\n",
        "val_loss = history.history['val_loss']\n",
        "\n",
        "epochs = range(1, len(loss) + 1)\n",
        "\n",
        "plt.figure()\n",
        "\n",
        "plt.plot(epochs, loss, 'bo', label='Training loss')\n",
        "plt.plot(epochs, val_loss, 'b', label='Validation loss')\n",
        "plt.title('Training and validation loss')\n",
        "plt.legend()\n",
        "\n",
        "plt.show()"
      ],
      "execution_count": 28,
      "outputs": [
        {
          "output_type": "display_data",
          "data": {
            "image/png": "[encoded data removed]",
            "text/plain": [
              "<Figure size 432x288 with 1 Axes>"
            ]
          },
          "metadata": {
            "tags": []
          }
        }
      ]
    },
    {
      "cell_type": "code",
      "metadata": {
        "id": "EQUhUgyTwBqS",
        "colab_type": "code",
        "colab": {}
      },
      "source": [
        "step = 3\n",
        "looback = 1440\n",
        "delay = 144\n",
        "\n",
        "train_gen = generator(float_data,\n",
        "                      lookback = lookback,\n",
        "                      delay = delay ,\n",
        "                      min_index = 0,\n",
        "                      max_index = 200000,\n",
        "                      shuffle = True,\n",
        "                      step = step)\n",
        "val_gen = generator(float_data,\n",
        "                      lookback = lookback,\n",
        "                      delay = delay ,\n",
        "                      min_index = 200001,\n",
        "                      max_index = 300000,\n",
        "                      shuffle = True,\n",
        "                      step = step)\n",
        "test_gen = generator(float_data,\n",
        "                      lookback = lookback,\n",
        "                      delay = delay ,\n",
        "                      min_index = 300001,\n",
        "                      max_index = None,\n",
        "                      shuffle = True,\n",
        "                      step = step)\n",
        "\n",
        "val_steps = (300000 - 200001 - lookabck) // 128\n",
        "test_steps = (len(float_data) - 300001 - lookback) // 128"
      ],
      "execution_count": 0,
      "outputs": []
    },
    {
      "cell_type": "code",
      "metadata": {
        "id": "O2lApLGzaz_5",
        "colab_type": "code",
        "colab": {
          "base_uri": "https://localhost:8080/",
          "height": 1000
        },
        "outputId": "c59e0324-650d-4c91-938c-74c29bbbca29"
      },
      "source": [
        "model = Sequential()\n",
        "model.add(layers.Conv1D(32, 5, activation = 'relu',\n",
        "                        input_shape = (None, float_data.shape[-1])))\n",
        "model.add(layers.MaxPooling1D(3))\n",
        "model.add(layers.Conv1D(32, 5, activation = 'relu'))\n",
        "model.add(layers.GRU(32, dropout = 0.1, recurrent_dropout = 0.5))\n",
        "model.add(layers.Dense(1))\n",
        "\n",
        "model.summary()\n",
        "\n",
        "model.compile(optimizer = RMSprop(), loss = 'mae')\n",
        "history = model.fit_generator(train_gen,\n",
        "                              steps_per_epoch = 500,\n",
        "                              epochs = 20,\n",
        "                              validation_data = val_gen,\n",
        "                              validation_steps = val_steps)"
      ],
      "execution_count": 30,
      "outputs": [
        {
          "output_type": "stream",
          "text": [
            "WARNING:tensorflow:Layer gru_3 will not use cuDNN kernel since it doesn't meet the cuDNN kernel criteria. It will use generic GPU kernel as fallback when running on GPU\n",
            "Model: \"sequential_14\"\n",
            "_________________________________________________________________\n",
            "Layer (type)                 Output Shape              Param #   \n",
            "=================================================================\n",
            "conv1d_16 (Conv1D)           (None, None, 32)          2272      \n",
            "_________________________________________________________________\n",
            "max_pooling1d_10 (MaxPooling (None, None, 32)          0         \n",
            "_________________________________________________________________\n",
            "conv1d_17 (Conv1D)           (None, None, 32)          5152      \n",
            "_________________________________________________________________\n",
            "gru_3 (GRU)                  (None, 32)                6336      \n",
            "_________________________________________________________________\n",
            "dense_9 (Dense)              (None, 1)                 33        \n",
            "=================================================================\n",
            "Total params: 13,793\n",
            "Trainable params: 13,793\n",
            "Non-trainable params: 0\n",
            "_________________________________________________________________\n",
            "Epoch 1/20\n",
            "500/500 [==============================] - 139s 278ms/step - loss: 0.3392 - val_loss: 0.3108\n",
            "Epoch 2/20\n",
            "500/500 [==============================] - 136s 272ms/step - loss: 0.3060 - val_loss: 0.2899\n",
            "Epoch 3/20\n",
            "500/500 [==============================] - 136s 273ms/step - loss: 0.2914 - val_loss: 0.2910\n",
            "Epoch 4/20\n",
            "500/500 [==============================] - 140s 280ms/step - loss: 0.2797 - val_loss: 0.3041\n",
            "Epoch 5/20\n",
            "500/500 [==============================] - 143s 285ms/step - loss: 0.2703 - val_loss: 0.3064\n",
            "Epoch 6/20\n",
            "500/500 [==============================] - 141s 282ms/step - loss: 0.2615 - val_loss: 0.3023\n",
            "Epoch 7/20\n",
            "500/500 [==============================] - 139s 278ms/step - loss: 0.2552 - val_loss: 0.3065\n",
            "Epoch 8/20\n",
            "500/500 [==============================] - 134s 269ms/step - loss: 0.2484 - val_loss: 0.3093\n",
            "Epoch 9/20\n",
            "500/500 [==============================] - 133s 266ms/step - loss: 0.2433 - val_loss: 0.3083\n",
            "Epoch 10/20\n",
            "500/500 [==============================] - 134s 268ms/step - loss: 0.2362 - val_loss: 0.3157\n",
            "Epoch 11/20\n",
            "500/500 [==============================] - 136s 272ms/step - loss: 0.2298 - val_loss: 0.3171\n",
            "Epoch 12/20\n",
            "500/500 [==============================] - 133s 267ms/step - loss: 0.2253 - val_loss: 0.3151\n",
            "Epoch 13/20\n",
            "500/500 [==============================] - 136s 273ms/step - loss: 0.2227 - val_loss: 0.3149\n",
            "Epoch 14/20\n",
            "500/500 [==============================] - 138s 277ms/step - loss: 0.2187 - val_loss: 0.3185\n",
            "Epoch 15/20\n",
            "500/500 [==============================] - 138s 277ms/step - loss: 0.2146 - val_loss: 0.3168\n",
            "Epoch 16/20\n",
            "500/500 [==============================] - 139s 279ms/step - loss: 0.2115 - val_loss: 0.3178\n",
            "Epoch 17/20\n",
            "500/500 [==============================] - 139s 278ms/step - loss: 0.2087 - val_loss: 0.3357\n",
            "Epoch 18/20\n",
            "500/500 [==============================] - 140s 280ms/step - loss: 0.2073 - val_loss: 0.3218\n",
            "Epoch 19/20\n",
            "500/500 [==============================] - 140s 281ms/step - loss: 0.2036 - val_loss: 0.3288\n",
            "Epoch 20/20\n",
            "500/500 [==============================] - 141s 283ms/step - loss: 0.2021 - val_loss: 0.3336\n"
          ],
          "name": "stdout"
        }
      ]
    },
    {
      "cell_type": "code",
      "metadata": {
        "id": "BDEzjn-J4jHh",
        "colab_type": "code",
        "colab": {
          "base_uri": "https://localhost:8080/",
          "height": 281
        },
        "outputId": "e5962317-d477-4da1-839e-6711dce235c3"
      },
      "source": [
        "import matplotlib.pyplot as plt\n",
        "loss = history.history['loss']\n",
        "val_loss = history.history['val_loss']\n",
        "\n",
        "epochs = range(1, len(loss) + 1)\n",
        "\n",
        "plt.figure()\n",
        "\n",
        "plt.plot(epochs, loss, 'bo', label='Training loss')\n",
        "plt.plot(epochs, val_loss, 'b', label='Validation loss')\n",
        "plt.title('Training and validation loss')\n",
        "plt.legend()\n",
        "\n",
        "plt.show()"
      ],
      "execution_count": 31,
      "outputs": [
        {
          "output_type": "display_data",
          "data": {
            "image/png": "[encoded data removed]",
            "text/plain": [
              "<Figure size 432x288 with 1 Axes>"
            ]
          },
          "metadata": {
            "tags": []
          }
        }
      ]
    }
  ]
}
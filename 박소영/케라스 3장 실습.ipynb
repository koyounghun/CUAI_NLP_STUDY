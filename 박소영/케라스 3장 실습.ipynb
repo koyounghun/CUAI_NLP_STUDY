{
 "cells": [
  {
   "cell_type": "code",
   "execution_count": 1,
   "metadata": {},
   "outputs": [
    {
     "name": "stderr",
     "output_type": "stream",
     "text": [
      "Using TensorFlow backend.\n"
     ]
    }
   ],
   "source": [
    "'''\n",
    "3장 실습\n",
    "'''\n",
    "#영화리뷰\n",
    "#데이터 불러오기\n",
    "from keras.datasets import imdb\n",
    "\n",
    "(train_data,train_labels),(test_data,test_labels)=imdb.load_data(num_words=10000)"
   ]
  },
  {
   "cell_type": "code",
   "execution_count": 2,
   "metadata": {},
   "outputs": [],
   "source": [
    "#정수 시퀀스를 이진행렬로  원핫인코딩하기\n",
    "\n",
    "import numpy as np\n",
    "def vactorize_sequences(sequences,dimension=10000):\n",
    "    results=np.zeros((len(sequences),dimension))\n",
    "    for i,sequence in enumerate(sequences):\n",
    "        results[i,sequence]=1\n",
    "    return results\n",
    "\n",
    "x_train=vactorize_sequences(train_data)\n",
    "x_test=vactorize_sequences(test_data)"
   ]
  },
  {
   "cell_type": "code",
   "execution_count": 3,
   "metadata": {},
   "outputs": [
    {
     "data": {
      "text/plain": [
       "1.0"
      ]
     },
     "execution_count": 3,
     "metadata": {},
     "output_type": "execute_result"
    }
   ],
   "source": [
    "#레이블 원핫 인코딩(이진분류 레이블은 그 자체가 원핫이므로 asarray만을 써도 ok)\n",
    "y_train=np.asarray(train_labels).astype('float32')\n",
    "y_test=np.asarray(test_labels).astype('float32')\n"
   ]
  },
  {
   "cell_type": "code",
   "execution_count": 4,
   "metadata": {},
   "outputs": [],
   "source": [
    "#모델정의하기(2차원 텐서가 데이터로 들어가므로 Dense& 활성화 함수 relu이용)\n",
    "from keras import models\n",
    "from keras import layers\n",
    "\n",
    "model=models.Sequential()\n",
    "model.add(layers.Dense(16,activation='relu',input_shape=(10000,))) #하나의 샘플당 10000개의 원소\n",
    "model.add(layers.Dense(16,activation='relu'))\n",
    "model.add(layers.Dense(1,activation='sigmoid'))\n",
    "#이진분류는 샘플당 차원1의 확률 스칼라를 반환 하므로 sigmoid활성화 함수 적당"
   ]
  },
  {
   "cell_type": "code",
   "execution_count": 5,
   "metadata": {},
   "outputs": [],
   "source": [
    "#모델컴파일 하기\n",
    "model.compile(optimizer='rmsprop',\n",
    "             loss='binary_crossentropy',#이진 분류 cross_entropy(확률의 차이!)\n",
    "             metrics=['accuracy'])"
   ]
  },
  {
   "cell_type": "code",
   "execution_count": 6,
   "metadata": {},
   "outputs": [],
   "source": [
    "#검증세트 준비하기(10000개 샘플 떼어내기)\n",
    "\n",
    "x_val=x_train[:10000]\n",
    "partial_x_train=x_train[10000:]\n",
    "y_val=y_train[:10000]\n",
    "partial_y_train=y_train[10000:]"
   ]
  },
  {
   "cell_type": "code",
   "execution_count": 7,
   "metadata": {},
   "outputs": [
    {
     "name": "stdout",
     "output_type": "stream",
     "text": [
      "Train on 15000 samples, validate on 10000 samples\n",
      "Epoch 1/20\n",
      "15000/15000 [==============================] - 10s 685us/step - loss: 0.5085 - acc: 0.7814 - val_loss: 0.3796 - val_acc: 0.8690\n",
      "Epoch 2/20\n",
      "15000/15000 [==============================] - 8s 566us/step - loss: 0.3005 - acc: 0.9045 - val_loss: 0.3002 - val_acc: 0.8898\n",
      "Epoch 3/20\n",
      "15000/15000 [==============================] - 8s 545us/step - loss: 0.2179 - acc: 0.9284 - val_loss: 0.3082 - val_acc: 0.8714\n",
      "Epoch 4/20\n",
      "15000/15000 [==============================] - 8s 528us/step - loss: 0.1751 - acc: 0.9436 - val_loss: 0.2837 - val_acc: 0.8837\n",
      "Epoch 5/20\n",
      "15000/15000 [==============================] - 8s 519us/step - loss: 0.1427 - acc: 0.9544 - val_loss: 0.2841 - val_acc: 0.8868\n",
      "Epoch 6/20\n",
      "15000/15000 [==============================] - 8s 527us/step - loss: 0.1150 - acc: 0.9651 - val_loss: 0.3155 - val_acc: 0.8772\n",
      "Epoch 7/20\n",
      "15000/15000 [==============================] - 8s 554us/step - loss: 0.0980 - acc: 0.9705 - val_loss: 0.3127 - val_acc: 0.8844\n",
      "Epoch 8/20\n",
      "15000/15000 [==============================] - 8s 551us/step - loss: 0.0807 - acc: 0.9764 - val_loss: 0.3858 - val_acc: 0.8650\n",
      "Epoch 9/20\n",
      "15000/15000 [==============================] - 8s 566us/step - loss: 0.0661 - acc: 0.9821 - val_loss: 0.3635 - val_acc: 0.8777\n",
      "Epoch 10/20\n",
      "15000/15000 [==============================] - 8s 547us/step - loss: 0.0561 - acc: 0.9853 - val_loss: 0.3842 - val_acc: 0.8793\n",
      "Epoch 11/20\n",
      "15000/15000 [==============================] - 8s 544us/step - loss: 0.0440 - acc: 0.9891 - val_loss: 0.4151 - val_acc: 0.8778\n",
      "Epoch 12/20\n",
      "15000/15000 [==============================] - 8s 524us/step - loss: 0.0382 - acc: 0.9920 - val_loss: 0.4525 - val_acc: 0.8686\n",
      "Epoch 13/20\n",
      "15000/15000 [==============================] - 9s 593us/step - loss: 0.0299 - acc: 0.9931 - val_loss: 0.4700 - val_acc: 0.8724\n",
      "Epoch 14/20\n",
      "15000/15000 [==============================] - 8s 526us/step - loss: 0.0248 - acc: 0.9943 - val_loss: 0.5039 - val_acc: 0.8714\n",
      "Epoch 15/20\n",
      "15000/15000 [==============================] - 9s 576us/step - loss: 0.0191 - acc: 0.9967 - val_loss: 0.5314 - val_acc: 0.8703\n",
      "Epoch 16/20\n",
      "15000/15000 [==============================] - 8s 527us/step - loss: 0.0167 - acc: 0.9965 - val_loss: 0.5647 - val_acc: 0.8690\n",
      "Epoch 17/20\n",
      "15000/15000 [==============================] - 8s 531us/step - loss: 0.0120 - acc: 0.9983 - val_loss: 0.5980 - val_acc: 0.8666\n",
      "Epoch 18/20\n",
      "15000/15000 [==============================] - 8s 521us/step - loss: 0.0116 - acc: 0.9977 - val_loss: 0.6298 - val_acc: 0.8668\n",
      "Epoch 19/20\n",
      "15000/15000 [==============================] - 8s 517us/step - loss: 0.0068 - acc: 0.9995 - val_loss: 0.7465 - val_acc: 0.8517\n",
      "Epoch 20/20\n",
      "15000/15000 [==============================] - 8s 534us/step - loss: 0.0050 - acc: 0.9998 - val_loss: 0.6889 - val_acc: 0.8662\n"
     ]
    }
   ],
   "source": [
    "#모델 훈련\n",
    "model.compile(optimizer=\"rmsprop\",\n",
    "             loss=\"binary_crossentropy\",\n",
    "             metrics=[\"accuracy\"])\n",
    "history=model.fit(partial_x_train,partial_y_train,\n",
    "                 epochs=20,\n",
    "                 batch_size=512,#Q한번의 에포그에서 512번의 배치사이즈로 경사하강 하는 거??\n",
    "                 validation_data=(x_val,y_val))#이거는 테스트 용 학습에 연관 X"
   ]
  },
  {
   "cell_type": "code",
   "execution_count": 8,
   "metadata": {},
   "outputs": [
    {
     "data": {
      "image/png": "[encoded data removed]",
      "text/plain": [
       "<Figure size 432x288 with 1 Axes>"
      ]
     },
     "metadata": {
      "needs_background": "light"
     },
     "output_type": "display_data"
    }
   ],
   "source": [
    "#훈련과 검증손실 그리기\n",
    "import matplotlib.pyplot as plt\n",
    "\n",
    "history_dict=history.history\n",
    "loss=history_dict['loss']\n",
    "val_loss=history_dict['val_loss']\n",
    "\n",
    "epochs=range(1,len(loss) +1)\n",
    "\n",
    "plt.plot(epochs,loss,'bo',label='Training loss')\n",
    "plt.plot(epochs,val_loss,'b',label='Validation loss')\n",
    "plt.title('Training and validation loss')\n",
    "      \n",
    "plt.xlabel('Epochs')\n",
    "plt.ylabel('Loss')\n",
    "plt.legend()\n",
    "      \n",
    "plt.show()"
   ]
  },
  {
   "cell_type": "code",
   "execution_count": 10,
   "metadata": {},
   "outputs": [
    {
     "data": {
      "image/png": "[encoded data removed]",
      "text/plain": [
       "<Figure size 432x288 with 1 Axes>"
      ]
     },
     "metadata": {
      "needs_background": "light"
     },
     "output_type": "display_data"
    }
   ],
   "source": [
    "plt.clf() #그래프 초기화\n",
    "acc=history_dict['acc']\n",
    "val_acc=history_dict[\"val_acc\"]\n",
    "\n",
    "plt.plot(epochs,acc,'bo',label='Training acc')\n",
    "plt.plot(epochs,val_acc,'b',label='Validation acc')\n",
    "plt.title('Training and validation accuracy')\n",
    "plt.xlabel('Epochs')\n",
    "plt.ylabel('Accuracy')\n",
    "plt.legend()\n",
    "plt.show()"
   ]
  },
  {
   "cell_type": "code",
   "execution_count": 12,
   "metadata": {},
   "outputs": [
    {
     "name": "stdout",
     "output_type": "stream",
     "text": [
      "Epoch 1/4\n",
      "25000/25000 [==============================] - 12s 478us/step - loss: 0.4584 - acc: 0.8133\n",
      "Epoch 2/4\n",
      "25000/25000 [==============================] - 9s 368us/step - loss: 0.2628 - acc: 0.9096\n",
      "Epoch 3/4\n",
      "25000/25000 [==============================] - 8s 335us/step - loss: 0.2004 - acc: 0.9282\n",
      "Epoch 4/4\n",
      "25000/25000 [==============================] - 9s 342us/step - loss: 0.1675 - acc: 0.9394\n",
      "25000/25000 [==============================] - 11s 431us/step\n"
     ]
    }
   ],
   "source": [
    "#위 그래프 봤을때 에포크 4번까지가 좋음->처음부터 다시 훈련\n",
    "model=models.Sequential()\n",
    "model.add(layers.Dense(16,activation='relu',input_shape=(10000,))) #하나의 샘플당 10000개의 원소\n",
    "model.add(layers.Dense(16,activation='relu'))\n",
    "model.add(layers.Dense(1,activation='sigmoid'))\n",
    "\n",
    "model.compile(optimizer=\"rmsprop\",\n",
    "             loss=\"binary_crossentropy\",\n",
    "             metrics=[\"accuracy\"])\n",
    "\n",
    "model.fit(x_train,y_train,\n",
    "                 epochs=4,\n",
    "                 batch_size=512)\n",
    "\n",
    "result=model.evaluate(x_test,y_test)"
   ]
  },
  {
   "cell_type": "code",
   "execution_count": 14,
   "metadata": {},
   "outputs": [
    {
     "data": {
      "text/plain": [
       "[0.3020179143047333, 0.8808]"
      ]
     },
     "execution_count": 14,
     "metadata": {},
     "output_type": "execute_result"
    }
   ],
   "source": [
    "result"
   ]
  },
  {
   "cell_type": "code",
   "execution_count": 15,
   "metadata": {},
   "outputs": [
    {
     "data": {
      "text/plain": [
       "array([[0.21721274],\n",
       "       [0.99954236],\n",
       "       [0.9383143 ],\n",
       "       ...,\n",
       "       [0.15096414],\n",
       "       [0.10364115],\n",
       "       [0.7171019 ]], dtype=float32)"
      ]
     },
     "execution_count": 15,
     "metadata": {},
     "output_type": "execute_result"
    }
   ],
   "source": [
    "model.predict(x_test)"
   ]
  },
  {
   "cell_type": "code",
   "execution_count": 16,
   "metadata": {},
   "outputs": [
    {
     "name": "stdout",
     "output_type": "stream",
     "text": [
      "Downloading data from https://s3.amazonaws.com/text-datasets/reuters.npz\n",
      "2113536/2110848 [==============================] - 15s 7us/step\n"
     ]
    }
   ],
   "source": [
    "'''\n",
    "다중분류->뉴스기사 분류\n",
    "'''\n",
    "from keras.datasets import reuters\n",
    "\n",
    "(train_data,train_labels),(test_data,test_labels)=reuters.load_data(num_words=10000)\n",
    "\n"
   ]
  },
  {
   "cell_type": "code",
   "execution_count": 23,
   "metadata": {},
   "outputs": [],
   "source": [
    "#데이터 인고딩 (리스트 ->np의 벡터로)\n",
    "\n",
    "\n",
    "import numpy as np\n",
    "\n",
    "def vactorize_sequences(sequences,dimension=10000):\n",
    "    results=np.zeros((len(sequences),dimension))\n",
    "    for i,sequence in enumerate(sequences):\n",
    "        results[i,sequence]=1\n",
    "    return results\n",
    "\n",
    "x_train=vactorize_sequences(train_data)\n",
    "x_test=vactorize_sequences(test_data)"
   ]
  },
  {
   "cell_type": "code",
   "execution_count": 24,
   "metadata": {},
   "outputs": [],
   "source": [
    "#레이블 인코딩 (이전엔 이미 이진분류(단일분류)레이블인데 비해 이건 다중분류이므로! np.asarray()말고 to_one_hot이용 )\n",
    "#이걸 위의 예제와 같이 np.array로 바꾸면 [3,2,1,..]이런식으로 표현 되므로(다중분류)\n",
    "#이건 데이터 인코딩과 똑같이 해주어야 함\n",
    "def to_one_hot(labels,dimension=10000):\n",
    "    results=np.zeros((len(labels),dimension))\n",
    "    for i,label in enumerate(labels):\n",
    "        results[i,label]=1\n",
    "    return results\n",
    "\n",
    "one_hot_train_labels=to_one_hot(train_labels)\n",
    "one_hot_test_labels=to_one_hot(test_labels)"
   ]
  },
  {
   "cell_type": "code",
   "execution_count": 25,
   "metadata": {},
   "outputs": [],
   "source": [
    "#이미 케라스에 위에 대해 내장함수 존재\n",
    "from keras.utils.np_utils import to_categorical\n",
    "\n",
    "one_hot_train_labels=to_categorical(train_labels)\n",
    "one_hot_test_labels=to_categorical(test_labels)"
   ]
  },
  {
   "cell_type": "code",
   "execution_count": 26,
   "metadata": {},
   "outputs": [],
   "source": [
    "#내 호기심 그럼 위의 샘플 데이터 인코딩은..?\n",
    "##x_train=to_categorical(train_data)\n",
    "#x_test=to_categorical(test_data)\n",
    "#이거 안됌 대신 to_one_hot은 매개변수 이름만 바뀐거니까 가능"
   ]
  },
  {
   "cell_type": "code",
   "execution_count": 29,
   "metadata": {},
   "outputs": [],
   "source": [
    "#모델정의\n",
    "\n",
    "from keras import models\n",
    "#import keras.layers 이렇게 적으면 말 그대로 keras.layers 를 가져와서 layers쓸떄 마다 keras.layers를 통채로 입력해야함.. 따라서\n",
    "from keras  import layers  #  라 하자\n",
    "\n",
    "model=models.Sequential()\n",
    "model.add(layers.Dense(64,activation='relu',input_shape=(10000,)))\n",
    "model.add(layers.Dense(64,activation='relu'))\n",
    "model.add(layers.Dense(46,activation='softmax'))#다중분류 시그마(46개의 클래스)=1\n"
   ]
  },
  {
   "cell_type": "code",
   "execution_count": 30,
   "metadata": {},
   "outputs": [],
   "source": [
    "#정의된 모델 컴파일\n",
    "model.compile(optimizer='rmsprop',\n",
    "             loss='categorical_crossentropy', # 이진분류 binary 다중 분류 categorical\n",
    "             metrics=['acc'])"
   ]
  },
  {
   "cell_type": "code",
   "execution_count": 31,
   "metadata": {},
   "outputs": [],
   "source": [
    "#훈련검증\n",
    "\n",
    "x_val=x_train[:1000]\n",
    "partial_x_val=x_train[1000:]\n",
    "\n",
    "y_val=one_hot_train_labels[:1000]\n",
    "partial_y_val=one_hot_train_labels[1000:]"
   ]
  },
  {
   "cell_type": "code",
   "execution_count": 32,
   "metadata": {
    "scrolled": true
   },
   "outputs": [
    {
     "name": "stdout",
     "output_type": "stream",
     "text": [
      "Train on 7982 samples, validate on 1000 samples\n",
      "Epoch 1/20\n",
      "7982/7982 [==============================] - 6s 696us/step - loss: 2.5312 - acc: 0.5292 - val_loss: 1.6581 - val_acc: 0.6520\n",
      "Epoch 2/20\n",
      "7982/7982 [==============================] - 4s 533us/step - loss: 1.3781 - acc: 0.7096 - val_loss: 1.2750 - val_acc: 0.7100\n",
      "Epoch 3/20\n",
      "7982/7982 [==============================] - 4s 535us/step - loss: 1.0424 - acc: 0.7774 - val_loss: 1.1146 - val_acc: 0.7480\n",
      "Epoch 4/20\n",
      "7982/7982 [==============================] - 4s 534us/step - loss: 0.8322 - acc: 0.8192 - val_loss: 1.0174 - val_acc: 0.7700\n",
      "Epoch 5/20\n",
      "7982/7982 [==============================] - 5s 581us/step - loss: 0.6663 - acc: 0.8583 - val_loss: 0.9548 - val_acc: 0.7840\n",
      "Epoch 6/20\n",
      "7982/7982 [==============================] - 4s 534us/step - loss: 0.5386 - acc: 0.8859 - val_loss: 0.9194 - val_acc: 0.8030\n",
      "Epoch 7/20\n",
      "7982/7982 [==============================] - 4s 540us/step - loss: 0.4396 - acc: 0.9065 - val_loss: 0.9080 - val_acc: 0.8000\n",
      "Epoch 8/20\n",
      "7982/7982 [==============================] - 4s 523us/step - loss: 0.3599 - acc: 0.9231 - val_loss: 0.8682 - val_acc: 0.8120\n",
      "Epoch 9/20\n",
      "7982/7982 [==============================] - 4s 532us/step - loss: 0.2949 - acc: 0.9347 - val_loss: 0.9377 - val_acc: 0.7970\n",
      "Epoch 10/20\n",
      "7982/7982 [==============================] - 4s 530us/step - loss: 0.2482 - acc: 0.9417 - val_loss: 0.8791 - val_acc: 0.8170\n",
      "Epoch 11/20\n",
      "7982/7982 [==============================] - 4s 525us/step - loss: 0.2116 - acc: 0.9476 - val_loss: 0.8910 - val_acc: 0.8190\n",
      "Epoch 12/20\n",
      "7982/7982 [==============================] - 4s 561us/step - loss: 0.1870 - acc: 0.9503 - val_loss: 0.9275 - val_acc: 0.8050\n",
      "Epoch 13/20\n",
      "7982/7982 [==============================] - 4s 530us/step - loss: 0.1676 - acc: 0.9539 - val_loss: 0.9397 - val_acc: 0.8150\n",
      "Epoch 14/20\n",
      "7982/7982 [==============================] - 4s 534us/step - loss: 0.1512 - acc: 0.9550 - val_loss: 0.9224 - val_acc: 0.8110\n",
      "Epoch 15/20\n",
      "7982/7982 [==============================] - 4s 545us/step - loss: 0.1400 - acc: 0.9567 - val_loss: 0.9538 - val_acc: 0.8200\n",
      "Epoch 16/20\n",
      "7982/7982 [==============================] - 5s 597us/step - loss: 0.1295 - acc: 0.9568 - val_loss: 0.9731 - val_acc: 0.8090\n",
      "Epoch 17/20\n",
      "7982/7982 [==============================] - 5s 598us/step - loss: 0.1259 - acc: 0.9567 - val_loss: 0.9652 - val_acc: 0.8070\n",
      "Epoch 18/20\n",
      "7982/7982 [==============================] - 5s 574us/step - loss: 0.1204 - acc: 0.9564 - val_loss: 1.0006 - val_acc: 0.8130\n",
      "Epoch 19/20\n",
      "7982/7982 [==============================] - 5s 575us/step - loss: 0.1160 - acc: 0.9565 - val_loss: 1.0086 - val_acc: 0.8080\n",
      "Epoch 20/20\n",
      "7982/7982 [==============================] - 4s 530us/step - loss: 0.1129 - acc: 0.9577 - val_loss: 1.0164 - val_acc: 0.8020\n"
     ]
    }
   ],
   "source": [
    "#모델 훈련\n",
    "\n",
    "history=model.fit(partial_x_val,partial_y_val,\n",
    "                 epochs=20,\n",
    "                 batch_size=512,\n",
    "                 validation_data=[x_val,y_val])"
   ]
  },
  {
   "cell_type": "code",
   "execution_count": 33,
   "metadata": {},
   "outputs": [
    {
     "data": {
      "image/png": "[encoded data removed]",
      "text/plain": [
       "<Figure size 432x288 with 1 Axes>"
      ]
     },
     "metadata": {
      "needs_background": "light"
     },
     "output_type": "display_data"
    }
   ],
   "source": [
    "#훈련과 검증손실 그리기\n",
    "import matplotlib.pyplot as plt\n",
    "\n",
    "loss=history.history['loss']\n",
    "val_loss=history.history['val_loss']\n",
    "\n",
    "epochs = range(1,len(loss)+1)\n",
    "\n",
    "plt.plot(epochs,loss,'bo',label='Training loss')\n",
    "plt.plot(epochs,val_loss,'b',label='Validation loss')\n",
    "plt.title('Training and validation loss')\n",
    "      \n",
    "plt.xlabel('Epochs')\n",
    "plt.ylabel('Loss')\n",
    "plt.legend()\n",
    "      \n",
    "plt.show()"
   ]
  },
  {
   "cell_type": "code",
   "execution_count": 34,
   "metadata": {},
   "outputs": [
    {
     "data": {
      "image/png": "[encoded data removed]",
      "text/plain": [
       "<Figure size 432x288 with 1 Axes>"
      ]
     },
     "metadata": {
      "needs_background": "light"
     },
     "output_type": "display_data"
    }
   ],
   "source": [
    "#훈련과 검증정확도 그리기\n",
    "import matplotlib.pyplot as plt\n",
    "\n",
    "acc=history.history['acc']\n",
    "val_acc=history.history['val_acc']\n",
    "\n",
    "epochs = range(1,len(acc)+1)\n",
    "\n",
    "plt.plot(epochs,acc,'bo',label='Training acc')\n",
    "plt.plot(epochs,val_acc,'b',label='Validation acc')\n",
    "plt.title('Training and validation acc')\n",
    "      \n",
    "plt.xlabel('Epochs')\n",
    "plt.ylabel('acc')\n",
    "plt.legend()\n",
    "      \n",
    "plt.show()"
   ]
  },
  {
   "cell_type": "code",
   "execution_count": 35,
   "metadata": {},
   "outputs": [
    {
     "name": "stdout",
     "output_type": "stream",
     "text": [
      "Train on 7982 samples, validate on 1000 samples\n",
      "Epoch 1/9\n",
      "7982/7982 [==============================] - 4s 541us/step - loss: 0.1066 - acc: 0.9588 - val_loss: 1.0444 - val_acc: 0.8110\n",
      "Epoch 2/9\n",
      "7982/7982 [==============================] - 4s 540us/step - loss: 0.1041 - acc: 0.9584 - val_loss: 1.0680 - val_acc: 0.8020\n",
      "Epoch 3/9\n",
      "7982/7982 [==============================] - 5s 574us/step - loss: 0.1053 - acc: 0.9577 - val_loss: 1.0511 - val_acc: 0.8030\n",
      "Epoch 4/9\n",
      "7982/7982 [==============================] - 4s 541us/step - loss: 0.1051 - acc: 0.9570 - val_loss: 1.0708 - val_acc: 0.8020\n",
      "Epoch 5/9\n",
      "7982/7982 [==============================] - 4s 529us/step - loss: 0.0997 - acc: 0.9577 - val_loss: 1.0955 - val_acc: 0.8000\n",
      "Epoch 6/9\n",
      "7982/7982 [==============================] - 4s 534us/step - loss: 0.1011 - acc: 0.9563 - val_loss: 1.1395 - val_acc: 0.7910\n",
      "Epoch 7/9\n",
      "7982/7982 [==============================] - 4s 546us/step - loss: 0.0996 - acc: 0.9583 - val_loss: 1.1002 - val_acc: 0.8060\n",
      "Epoch 8/9\n",
      "7982/7982 [==============================] - 5s 585us/step - loss: 0.0949 - acc: 0.9590 - val_loss: 1.1563 - val_acc: 0.7880\n",
      "Epoch 9/9\n",
      "7982/7982 [==============================] - 5s 568us/step - loss: 0.0981 - acc: 0.9580 - val_loss: 1.1137 - val_acc: 0.8050\n"
     ]
    },
    {
     "data": {
      "text/plain": [
       "<keras.callbacks.History at 0x1a1991d9e48>"
      ]
     },
     "execution_count": 35,
     "metadata": {},
     "output_type": "execute_result"
    }
   ],
   "source": [
    "# 에포크 9부터 과대적합\n",
    "#모델 다시 훈련\n",
    "\n",
    "model.fit(partial_x_val,partial_y_val,\n",
    "                 epochs=9,\n",
    "                 batch_size=512,\n",
    "                 validation_data=[x_val,y_val])"
   ]
  },
  {
   "cell_type": "code",
   "execution_count": 36,
   "metadata": {},
   "outputs": [
    {
     "name": "stdout",
     "output_type": "stream",
     "text": [
      "2246/2246 [==============================] - 2s 795us/step\n"
     ]
    }
   ],
   "source": [
    "#테스트 셋 예측평가\n",
    "results=model.evaluate(x_test,one_hot_test_labels)"
   ]
  },
  {
   "cell_type": "code",
   "execution_count": 37,
   "metadata": {},
   "outputs": [
    {
     "data": {
      "text/plain": [
       "[1.3416993119094591, 0.7764915405164737]"
      ]
     },
     "execution_count": 37,
     "metadata": {},
     "output_type": "execute_result"
    }
   ],
   "source": [
    "results#약 78퍼 정확"
   ]
  },
  {
   "cell_type": "code",
   "execution_count": 12,
   "metadata": {},
   "outputs": [],
   "source": [
    "'''\n",
    "회귀문제-> 주택가격예측\n",
    "'''\n",
    "from keras.datasets import boston_housing\n",
    "\n",
    "(train_data,train_targets),(test_data,test_targets)=boston_housing.load_data()"
   ]
  },
  {
   "cell_type": "code",
   "execution_count": 7,
   "metadata": {},
   "outputs": [
    {
     "data": {
      "text/plain": [
       "(404, 13)"
      ]
     },
     "execution_count": 7,
     "metadata": {},
     "output_type": "execute_result"
    }
   ],
   "source": [
    "train_data.shape"
   ]
  },
  {
   "cell_type": "code",
   "execution_count": 14,
   "metadata": {},
   "outputs": [
    {
     "data": {
      "text/plain": [
       "array([15.2, 42.3, 50. , 21.1, 17.7, 18.5, 11.3, 15.6, 15.6, 14.4, 12.1,\n",
       "       17.9, 23.1, 19.9, 15.7,  8.8, 50. , 22.5, 24.1, 27.5, 10.9, 30.8,\n",
       "       32.9, 24. , 18.5, 13.3, 22.9, 34.7, 16.6, 17.5, 22.3, 16.1, 14.9,\n",
       "       23.1, 34.9, 25. , 13.9, 13.1, 20.4, 20. , 15.2, 24.7, 22.2, 16.7,\n",
       "       12.7, 15.6, 18.4, 21. , 30.1, 15.1, 18.7,  9.6, 31.5, 24.8, 19.1,\n",
       "       22. , 14.5, 11. , 32. , 29.4, 20.3, 24.4, 14.6, 19.5, 14.1, 14.3,\n",
       "       15.6, 10.5,  6.3, 19.3, 19.3, 13.4, 36.4, 17.8, 13.5, 16.5,  8.3,\n",
       "       14.3, 16. , 13.4, 28.6, 43.5, 20.2, 22. , 23. , 20.7, 12.5, 48.5,\n",
       "       14.6, 13.4, 23.7, 50. , 21.7, 39.8, 38.7, 22.2, 34.9, 22.5, 31.1,\n",
       "       28.7, 46. , 41.7, 21. , 26.6, 15. , 24.4, 13.3, 21.2, 11.7, 21.7,\n",
       "       19.4, 50. , 22.8, 19.7, 24.7, 36.2, 14.2, 18.9, 18.3, 20.6, 24.6,\n",
       "       18.2,  8.7, 44. , 10.4, 13.2, 21.2, 37. , 30.7, 22.9, 20. , 19.3,\n",
       "       31.7, 32. , 23.1, 18.8, 10.9, 50. , 19.6,  5. , 14.4, 19.8, 13.8,\n",
       "       19.6, 23.9, 24.5, 25. , 19.9, 17.2, 24.6, 13.5, 26.6, 21.4, 11.9,\n",
       "       22.6, 19.6,  8.5, 23.7, 23.1, 22.4, 20.5, 23.6, 18.4, 35.2, 23.1,\n",
       "       27.9, 20.6, 23.7, 28. , 13.6, 27.1, 23.6, 20.6, 18.2, 21.7, 17.1,\n",
       "        8.4, 25.3, 13.8, 22.2, 18.4, 20.7, 31.6, 30.5, 20.3,  8.8, 19.2,\n",
       "       19.4, 23.1, 23. , 14.8, 48.8, 22.6, 33.4, 21.1, 13.6, 32.2, 13.1,\n",
       "       23.4, 18.9, 23.9, 11.8, 23.3, 22.8, 19.6, 16.7, 13.4, 22.2, 20.4,\n",
       "       21.8, 26.4, 14.9, 24.1, 23.8, 12.3, 29.1, 21. , 19.5, 23.3, 23.8,\n",
       "       17.8, 11.5, 21.7, 19.9, 25. , 33.4, 28.5, 21.4, 24.3, 27.5, 33.1,\n",
       "       16.2, 23.3, 48.3, 22.9, 22.8, 13.1, 12.7, 22.6, 15. , 15.3, 10.5,\n",
       "       24. , 18.5, 21.7, 19.5, 33.2, 23.2,  5. , 19.1, 12.7, 22.3, 10.2,\n",
       "       13.9, 16.3, 17. , 20.1, 29.9, 17.2, 37.3, 45.4, 17.8, 23.2, 29. ,\n",
       "       22. , 18. , 17.4, 34.6, 20.1, 25. , 15.6, 24.8, 28.2, 21.2, 21.4,\n",
       "       23.8, 31. , 26.2, 17.4, 37.9, 17.5, 20. ,  8.3, 23.9,  8.4, 13.8,\n",
       "        7.2, 11.7, 17.1, 21.6, 50. , 16.1, 20.4, 20.6, 21.4, 20.6, 36.5,\n",
       "        8.5, 24.8, 10.8, 21.9, 17.3, 18.9, 36.2, 14.9, 18.2, 33.3, 21.8,\n",
       "       19.7, 31.6, 24.8, 19.4, 22.8,  7.5, 44.8, 16.8, 18.7, 50. , 50. ,\n",
       "       19.5, 20.1, 50. , 17.2, 20.8, 19.3, 41.3, 20.4, 20.5, 13.8, 16.5,\n",
       "       23.9, 20.6, 31.5, 23.3, 16.8, 14. , 33.8, 36.1, 12.8, 18.3, 18.7,\n",
       "       19.1, 29. , 30.1, 50. , 50. , 22. , 11.9, 37.6, 50. , 22.7, 20.8,\n",
       "       23.5, 27.9, 50. , 19.3, 23.9, 22.6, 15.2, 21.7, 19.2, 43.8, 20.3,\n",
       "       33.2, 19.9, 22.5, 32.7, 22. , 17.1, 19. , 15. , 16.1, 25.1, 23.7,\n",
       "       28.7, 37.2, 22.6, 16.4, 25. , 29.8, 22.1, 17.4, 18.1, 30.3, 17.5,\n",
       "       24.7, 12.6, 26.5, 28.7, 13.3, 10.4, 24.4, 23. , 20. , 17.8,  7. ,\n",
       "       11.8, 24.4, 13.8, 19.4, 25.2, 19.4, 19.4, 29.1])"
      ]
     },
     "execution_count": 14,
     "metadata": {},
     "output_type": "execute_result"
    }
   ],
   "source": [
    "train_targets"
   ]
  },
  {
   "cell_type": "code",
   "execution_count": 16,
   "metadata": {},
   "outputs": [],
   "source": [
    "#데이터 정규화\n",
    "#이전 분류문제는 한 샘플을 많은 차원의 벡터로 원핫 인코딩\n",
    "#원핫 인코딩 회귀문제에 적합하지 않음\n",
    "#따라서 각 특성이 표준정규분포를 따르게 하자.(n(0,1))\n",
    "#이유는 각 특성의 값이 너무 상이하면 훈련이 잘 안됌\n",
    "\n",
    "mean=train_data.mean(axis=0)# 특성별 평균 구함Q.시퀀스 행렬이면 axis=1??\n",
    "train_data-=mean#각 특성에 평균 빼줌\n",
    "std=train_data.std(axis=0)#각 특성별 std구함\n",
    "train_data /= std # 표준편차 나눠줌\n",
    "\n",
    "#테스트 데이터는 훈련 데이터를 가지고 데이터 정규화 해준다.\n",
    "#테스트 데이터는 건들이면 안되므로\n",
    "test_data-=mean\n",
    "test_data /= std"
   ]
  },
  {
   "cell_type": "code",
   "execution_count": 27,
   "metadata": {},
   "outputs": [],
   "source": [
    "from keras import models\n",
    "from keras import layers\n",
    "\n",
    "def build_model():\n",
    "    model=models.Sequential()\n",
    "    model.add(layers.Dense(64,activation='relu',input_shape=(train_data.shape[1],)))\n",
    "    model.add(layers.Dense(64,activation='relu'))\n",
    "    model.add(layers.Dense(1))#활성화 함수 없다+하나의 유닛=> 스칼라회귀문제\n",
    "    model.compile(optimizer='rmsprop',loss='mse',metrics=['mae'])\n",
    "    #손실함수는 평균 제곱오차 평가기준은 평균 절대오차 => 스칼라 회귀의 전형적인 공식\n",
    "    \n",
    "    return model\n",
    "    "
   ]
  },
  {
   "cell_type": "code",
   "execution_count": 32,
   "metadata": {},
   "outputs": [
    {
     "name": "stdout",
     "output_type": "stream",
     "text": [
      "처리중인 폴드# 0\n",
      "처리중인 폴드# 1\n",
      "처리중인 폴드# 2\n",
      "처리중인 폴드# 3\n"
     ]
    }
   ],
   "source": [
    "#검증세트분할 경우의 수에 대해  검증점수의 분산이 높다.\n",
    "# 이럴 때 k-겹 교차검증\n",
    "\n",
    "import numpy as np\n",
    "k=4\n",
    "num_val_samples=len(train_data)//k\n",
    "num_epochs=100\n",
    "all_mae_histories=[]\n",
    "for i in range(k):\n",
    "    print(\"처리중인 폴드#\",i)\n",
    "    \n",
    "    #검증데이터 준비\n",
    "    val_data=train_data[i*num_val_samples:(i+1)*num_val_samples]\n",
    "    val_targets=train_targets[i*num_val_samples:(i+1)*num_val_samples]\n",
    "    \n",
    "    #검증데이터 외는 훈련데이터로 준비\n",
    "    partial_train_data=np.concatenate(\n",
    "        [train_data[:i*num_val_samples],\n",
    "         train_data[(i+1)*num_val_samples:]],\n",
    "         axis=0)#행기준으로 붙여라 그니까 A행렬 믿에 B행렬을 붙이라는 말 즉\n",
    "         #열을 그대로 행이 늘어나는 구조\n",
    "    partial_train_targets=np.concatenate(\n",
    "        [train_targets[:i*num_val_samples],\n",
    "         train_targets[(i+1)*num_val_samples:]],\n",
    "         axis=0)\n",
    "    model=build_model() # 케라스 모델 구성+ 모델 컴파일\n",
    "    history=model.fit(partial_train_data,partial_train_targets,\n",
    "             epochs=num_epochs,batch_size=1,verbose=0,\n",
    "             validation_data=(val_data,val_targets))#Q사실상 확률적경사하강법 아닌 그냥 경사하강법하겠다는 말\n",
    "    \n",
    "    mae_history=history.history['val_mean_absolute_error']\n",
    "    all_mae_histories.append(mae_history)"
   ]
  },
  {
   "cell_type": "code",
   "execution_count": 33,
   "metadata": {},
   "outputs": [],
   "source": [
    "#epoch 500을하라는데 시간 오래걸려서 패스"
   ]
  },
  {
   "cell_type": "code",
   "execution_count": 35,
   "metadata": {},
   "outputs": [],
   "source": [
    "#k겹 검증점수 평균을 기록하기\n",
    "average_mae_history=[np.mean([x[i] for x in all_mae_histories]) for i in range(num_epochs)]"
   ]
  },
  {
   "cell_type": "code",
   "execution_count": 39,
   "metadata": {},
   "outputs": [
    {
     "data": {
      "image/png": "[encoded data removed]",
      "text/plain": [
       "<Figure size 432x288 with 1 Axes>"
      ]
     },
     "metadata": {
      "needs_background": "light"
     },
     "output_type": "display_data"
    }
   ],
   "source": [
    "#검증 점수 그리기\n",
    "#기존 그래프와 달리 partial_train 데이터의 epoch당 mae는 출력하지 않는다.=> k-겹검증의 평균이므로\n",
    "#다른 기준 선이 필요없이 하나의 var평균 선으로도 충분히 데이터 과대적합 했는지 표현 가능하기 떄문인것 같음\n",
    "import matplotlib.pyplot as plt\n",
    "\n",
    "plt.plot(range(1,len(average_mae_history)+1),average_mae_history)#plot에 표시할 데이터 (x,y)좌표\n",
    "plt.xlabel(\"epochs\")\n",
    "plt.ylabel(\"validation Mae\")\n",
    "plt.show()"
   ]
  },
  {
   "cell_type": "code",
   "execution_count": 46,
   "metadata": {},
   "outputs": [
    {
     "data": {
      "image/png": "[encoded data removed]",
      "text/plain": [
       "<Figure size 432x288 with 1 Axes>"
      ]
     },
     "metadata": {
      "needs_background": "light"
     },
     "output_type": "display_data"
    }
   ],
   "source": [
    "#이 그래프는 변동이 심하기 때매 어디가 과대적합인지 보기 힘들다\n",
    "#앞의 10개 그래프 기존 그래프와 너무 차이 나므로 날려준다.\n",
    "#각 포인트를 이전 포인트의 지수이동평균으로 대체=> 완만한 그래프!!!!\n",
    "\n",
    "def smooth_curve(points,factors=0.9):\n",
    "    smooth_points=[]\n",
    "    for point in points:\n",
    "        if smooth_points: #smooth_points 리스트가 빈리스트가 아닐 때\n",
    "            previous=smooth_points[-1]\n",
    "            smooth_points.append(previous*factors+point*(1-factors)) #현.포=전 포인트의 90퍼센트+현 포인트 10퍼센트\n",
    "        else:\n",
    "            smooth_points.append(point)\n",
    "    return smooth_points\n",
    "\n",
    "smooth_mae_history=smooth_curve(average_mae_history[10:]) #앞의 열개 데이터 날림\n",
    "plt.plot(range(1,len(smooth_mae_history)+1),smooth_mae_history)#plot에 표시할 데이터 (x,y)좌표\n",
    "plt.xlabel(\"epochs\")\n",
    "plt.ylabel(\"validation Mae\")\n",
    "plt.show()"
   ]
  },
  {
   "cell_type": "code",
   "execution_count": 48,
   "metadata": {},
   "outputs": [
    {
     "name": "stdout",
     "output_type": "stream",
     "text": [
      "102/102 [==============================] - 0s 2ms/step\n"
     ]
    }
   ],
   "source": [
    "#교재에는 500까지 epoch가 있는데 그래프가 다르다 교재 보면 80번째 에포크가 최상!!\n",
    "#토대로 최종 모델 훈련\n",
    "model=build_model()\n",
    "model.fit(train_data,train_targets,\n",
    "         epochs=80,batch_size=16,verbose=0)\n",
    "test_mse_score,test_mae_score=model.evaluate(test_data,test_targets)"
   ]
  },
  {
   "cell_type": "code",
   "execution_count": 49,
   "metadata": {},
   "outputs": [
    {
     "data": {
      "text/plain": [
       "2.92810739255419"
      ]
     },
     "execution_count": 49,
     "metadata": {},
     "output_type": "execute_result"
    }
   ],
   "source": [
    "test_mae_score"
   ]
  },
  {
   "cell_type": "code",
   "execution_count": null,
   "metadata": {},
   "outputs": [],
   "source": []
  }
 ],
 "metadata": {
  "kernelspec": {
   "display_name": "Python 3",
   "language": "python",
   "name": "python3"
  },
  "language_info": {
   "codemirror_mode": {
    "name": "ipython",
    "version": 3
   },
   "file_extension": ".py",
   "mimetype": "text/x-python",
   "name": "python",
   "nbconvert_exporter": "python",
   "pygments_lexer": "ipython3",
   "version": "3.6.10"
  }
 },
 "nbformat": 4,
 "nbformat_minor": 4
}
